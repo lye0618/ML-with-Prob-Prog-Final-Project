{
  "nbformat": 4,
  "nbformat_minor": 0,
  "metadata": {
    "colab": {
      "name": "Copy of Welcome To Colaboratory",
      "provenance": [],
      "collapsed_sections": []
    },
    "kernelspec": {
      "name": "python3",
      "display_name": "Python 3"
    },
    "accelerator": "GPU"
  },
  "cells": [
    {
      "cell_type": "code",
      "metadata": {
        "id": "vvsJK_XXgWx-",
        "colab_type": "code",
        "outputId": "6c535354-eb74-42a4-afe1-8ae751315e8e",
        "colab": {
          "base_uri": "https://localhost:8080/",
          "height": 34
        }
      },
      "source": [
        "# # Mount Google Drive\n",
        "# from google.colab import drive\n",
        "# import shutil\n",
        "# import sys\n",
        "\n",
        "# # Mount drive\n",
        "# drive.mount('/drive', force_remount=True)\n",
        "# # Set path\n",
        "# sys.path.append('/drive/My Drive/COMS6998')\n",
        "\n",
        "# !cp -r '/drive/My Drive/COMS6998/fundamentals.csv' '/fundamentals.csv'\n",
        "# !cp -r '/drive/My Drive/COMS6998/prices-split-adjusted.csv' '/prices-split-adjusted.csv'\n",
        "# !cp -r '/drive/My Drive/COMS6998/prices.csv' '/prices.csv'\n",
        "# !cp -r '/drive/My Drive/COMS6998/data_fund.csv' '/data_fund.csv'\n"
      ],
      "execution_count": 3,
      "outputs": [
        {
          "output_type": "stream",
          "text": [
            "Mounted at /drive\n"
          ],
          "name": "stdout"
        }
      ]
    },
    {
      "cell_type": "code",
      "metadata": {
        "id": "wac_XZpWxCy6",
        "colab_type": "code",
        "colab": {
          "base_uri": "https://localhost:8080/",
          "height": 136
        },
        "outputId": "0669bd05-2614-434f-ceaf-c39f3fca1675"
      },
      "source": [
        "#!pip install pyro-ppl\n",
        "\n",
        "import os\n",
        "from functools import partial\n",
        "import numpy as np\n",
        "import pandas as pd\n",
        "import seaborn as sns\n",
        "import torch\n",
        "import torch.nn as nn\n",
        "import math\n",
        "\n",
        "import matplotlib.pyplot as plt\n",
        "\n",
        "import pyro\n",
        "from pyro.distributions import Normal, Uniform, Delta\n",
        "from pyro.infer import SVI, Trace_ELBO\n",
        "from pyro.optim import Adam\n",
        "from pyro.distributions.util import logsumexp\n",
        "from pyro.infer import EmpiricalMarginal, SVI, Trace_ELBO, TracePredictive\n",
        "from pyro.infer.mcmc import MCMC, NUTS\n",
        "import pyro.optim as optim\n",
        "import pyro.poutine as poutine"
      ],
      "execution_count": 4,
      "outputs": [
        {
          "output_type": "stream",
          "text": [
            "Requirement already satisfied: pyro-ppl in /usr/local/lib/python3.6/dist-packages (1.0.0)\n",
            "Requirement already satisfied: tqdm>=4.36 in /usr/local/lib/python3.6/dist-packages (from pyro-ppl) (4.38.0)\n",
            "Requirement already satisfied: pyro-api>=0.1.1 in /usr/local/lib/python3.6/dist-packages (from pyro-ppl) (0.1.1)\n",
            "Requirement already satisfied: opt-einsum>=2.3.2 in /usr/local/lib/python3.6/dist-packages (from pyro-ppl) (3.1.0)\n",
            "Requirement already satisfied: numpy>=1.7 in /usr/local/lib/python3.6/dist-packages (from pyro-ppl) (1.17.4)\n",
            "Requirement already satisfied: torch>=1.3.0 in /usr/local/lib/python3.6/dist-packages (from pyro-ppl) (1.3.1)\n",
            "Requirement already satisfied: graphviz>=0.8 in /usr/local/lib/python3.6/dist-packages (from pyro-ppl) (0.10.1)\n"
          ],
          "name": "stdout"
        }
      ]
    },
    {
      "cell_type": "code",
      "metadata": {
        "id": "6tArmqTLHJaa",
        "colab_type": "code",
        "colab": {}
      },
      "source": [
        "# def preprocess():\n",
        "#   data = pd.read_csv(\"/data_fund.csv\")\n",
        "#   fun = data.loc[~data['Indicator Name'].isin(['Common Shares Outstanding','Share Price'])].reset_index(drop=True)\n",
        "#   fun['yyyymm']=pd.to_datetime(fun['publish date'])\n",
        "#   fun = pd.pivot_table(fun, values='Indicator Value', index=['Ticker', 'yyyymm'],columns=['Indicator Name'], aggfunc=np.mean).reset_index()\n",
        "\n",
        "#   to_remove = ['Ticker','yyyymm','Avg. Basic Shares Outstanding','Avg. Diluted Shares Outstanding','Total Assets']\n",
        "#   fun_cols = list(fun.columns)\n",
        "#   for elem in to_remove:\n",
        "#     fun_cols.remove(elem)\n",
        "\n",
        "#   fun[fun_cols] = fun[fun_cols].div(fun['Total Assets'], axis=0).reset_index(drop=True)\n",
        "\n",
        "#   features = fun[fun_cols+['yyyymm','Ticker']]\n",
        "#   features = features.dropna().reset_index(drop=True)\n",
        "#   features = features.fillna(0).reset_index(drop=True)\n",
        "\n",
        "#   zscore = lambda x: (x - x.mean()) / x.std()\n",
        "#   final = features[['Ticker','yyyymm']]\n",
        "#   for item in fun_cols:\n",
        "#     temp = features.groupby([features.yyyymm])[item].transform(zscore)\n",
        "#     final = pd.concat([final,temp], axis=1).reset_index(drop=True)\n",
        "\n",
        "#   data['publish date']=pd.to_datetime(data['publish date'])\n",
        "#   rtns = data.loc[data['Indicator Name']=='Share Price', ['Ticker','publish date','Company Industry Classification Code', 'Indicator Value']].reset_index(drop=True)\n",
        "#   rtns.columns = ['Ticker','Date','Industry','Price']\n",
        "#   # rtns['Rtn1d'] = rtns.groupby('Ticker')['Price'].apply(lambda x: np.log(x).diff())\n",
        "#   # rtns['Rtn1q'] = rtns.groupby('Ticker')['Rtn1d'].rolling(63).sum().reset_index(0,drop=True)\n",
        "#   rtns['Rtn1d'] = rtns.groupby('Ticker')['Price'].apply(lambda x: np.log(x).diff())\n",
        "#   rtns['Rtn1q'] = rtns.groupby('Ticker')['Rtn1d'].rolling(63).sum().shift(-63).reset_index(0,drop=True)\n",
        "#   rtns['Rtn1d'] = rtns.groupby('Ticker')['Rtn1d'].shift(-1).reset_index(0,drop=True)\n",
        "#   rtns.dropna(inplace=True)\n",
        "  \n",
        "#   final = final.merge(rtns, left_on=['Ticker','yyyymm'], right_on =['Ticker','Date'],how='inner').reset_index(0,drop=True)\n",
        "#   final.dropna(inplace=True)\n",
        "#   train = final[final['yyyymm']<='2016-12-31'].reset_index(0,drop=True)\n",
        "#   test = final[final['yyyymm']>'2016-12-31'].reset_index(0,drop=True)\n",
        "\n",
        "#   X_train = train[fun_cols].values\n",
        "#   y_train = train['Rtn1q'].values\n",
        "#   X_test = test[fun_cols].values\n",
        "#   y_test = test['Rtn1q'].values\n",
        "#   X_tr = torch.tensor(X_train, dtype=torch.float)\n",
        "#   y_tr = torch.tensor(y_train, dtype=torch.float)\n",
        "#   X_ts = torch.tensor(X_test, dtype=torch.float)\n",
        "#   y_ts = torch.tensor(y_test, dtype=torch.float)\n",
        "\n",
        "#   return X_tr,y_tr,X_ts,y_ts"
      ],
      "execution_count": 0,
      "outputs": []
    },
    {
      "cell_type": "code",
      "metadata": {
        "id": "92yx9LIGyB9L",
        "colab_type": "code",
        "colab": {
          "base_uri": "https://localhost:8080/",
          "height": 85
        },
        "outputId": "7ad3070a-f5bb-456a-f675-708aa9dd4d64"
      },
      "source": [
        "from preprocess import preprocess\n",
        "\n",
        "X_tr,y_tr,X_ts,y_ts =preprocess()"
      ],
      "execution_count": 6,
      "outputs": [
        {
          "output_type": "stream",
          "text": [
            "/usr/local/lib/python3.6/dist-packages/pandas/core/series.py:856: RuntimeWarning: divide by zero encountered in log\n",
            "  result = getattr(ufunc, method)(*inputs, **kwargs)\n",
            "/usr/local/lib/python3.6/dist-packages/pandas/core/algorithms.py:1977: RuntimeWarning: invalid value encountered in subtract\n",
            "  out_arr[res_indexer] = arr[res_indexer] - arr[lag_indexer]\n"
          ],
          "name": "stderr"
        }
      ]
    },
    {
      "cell_type": "code",
      "metadata": {
        "id": "hGHVAyaSQIsA",
        "colab_type": "code",
        "colab": {}
      },
      "source": [
        ""
      ],
      "execution_count": 0,
      "outputs": []
    },
    {
      "cell_type": "code",
      "metadata": {
        "id": "H79kVMgfjQw6",
        "colab_type": "code",
        "colab": {}
      },
      "source": [
        "#!pip install http://download.pytorch.org/whl/cpu/torch-0.4.0-cp27-cp27mu-linux_x86_64.whl \n",
        "#!pip install pyro-ppl\n",
        "\n",
        "import os\n",
        "from functools import partial\n",
        "import numpy as np\n",
        "import pandas as pd\n",
        "import seaborn as sns\n",
        "import torch\n",
        "import torch.nn as nn\n",
        "import math\n",
        "\n",
        "import matplotlib.pyplot as plt\n",
        "\n",
        "import pyro\n",
        "from pyro.distributions import Normal, Uniform, Delta, LogNormal\n",
        "from pyro.infer import SVI, Trace_ELBO, config_enumerate\n",
        "from pyro.optim import Adam\n",
        "from pyro.distributions.util import logsumexp\n",
        "from pyro.infer import EmpiricalMarginal, SVI, Trace_ELBO, TracePredictive\n",
        "from pyro.infer.mcmc import MCMC, NUTS\n",
        "import pyro.optim as optim\n",
        "import pyro.poutine as poutine\n",
        "\n",
        "\n",
        "# The true model, with randomly generated weights and fixed noise level\n",
        "#noise_level = 0.1\n",
        "x = X_tr\n",
        "y = y_tr"
      ],
      "execution_count": 0,
      "outputs": []
    },
    {
      "cell_type": "code",
      "metadata": {
        "id": "x2GbJomN8sFb",
        "colab_type": "code",
        "colab": {
          "base_uri": "https://localhost:8080/",
          "height": 34
        },
        "outputId": "fa8c1115-ff6d-482e-df36-38d5d5969334"
      },
      "source": [
        "x.shape"
      ],
      "execution_count": 8,
      "outputs": [
        {
          "output_type": "execute_result",
          "data": {
            "text/plain": [
              "torch.Size([5000, 32])"
            ]
          },
          "metadata": {
            "tags": []
          },
          "execution_count": 8
        }
      ]
    },
    {
      "cell_type": "code",
      "metadata": {
        "id": "Ygx5bfFVUVKc",
        "colab_type": "code",
        "colab": {}
      },
      "source": [
        "# class RegressionModel(nn.Module):\n",
        "#     def __init__(self, p):\n",
        "#         # p = number of features\n",
        "#         super(RegressionModel, self).__init__()\n",
        "#         self.linear = nn.Linear(p, 1)\n",
        "#    #     self.factor = nn.Parameter(torch.tensor(1.))\n",
        "\n",
        "#     def forward(self, x):\n",
        "#       #  print (x.shape)\n",
        "#         return self.linear(x) #+ (self.factor * x[:, 0] * x[:, 1]).unsqueeze(1)\n",
        "\n",
        "# regression_model = RegressionModel(X_tr.shape[1])\n",
        "\n",
        "# # loc = torch.zeros(1, 1)\n",
        "# # scale = torch.ones(1, 1)\n",
        "# # # define a unit normal prior\n",
        "# # prior = Normal(loc, scale)\n",
        "# # # overload the parameters in the regression module with samples from the prior\n",
        "# # lifted_module = pyro.random_module(\"regression_module\", regression_model, prior)\n",
        "# # # sample a nn from the prior\n",
        "# # sampled_reg_model = lifted_module()"
      ],
      "execution_count": 0,
      "outputs": []
    },
    {
      "cell_type": "code",
      "metadata": {
        "id": "tbrg6Vz9GKxM",
        "colab_type": "code",
        "colab": {}
      },
      "source": [
        "pyro.enable_validation(True)\n",
        "pyro.clear_param_store()"
      ],
      "execution_count": 0,
      "outputs": []
    },
    {
      "cell_type": "code",
      "metadata": {
        "id": "DTCRRzL6Gk6g",
        "colab_type": "code",
        "colab": {}
      },
      "source": [
        "# The prior\n",
        "@config_enumerate\n",
        "def model(x,y):\n",
        "  # alpha = torch.tensor(0.0)\n",
        "  # beta = torch.tensor(1.0)\n",
        "  # w_prior = pyro.sample( \"w_prior\",Normal(alpha, beta).expand([11]).to_event(1))\n",
        "  # w_prior = pyro.sample( 'w_prior',Normal(torch.tensor(0.0), torch.tensor(1.0)).expand([11]).to_event(1)) \n",
        "  # b_prior = pyro.sample('b_prior',Normal(torch.tensor([[8.]]), torch.tensor([[1000.]])))\n",
        "  #w_prior = Normal(torch.tensor(0.0), torch.tensor(1.0)).expand([1,x.shape[1]]).to_event(1)\n",
        "  # w_prior = Normal(torch.tensor(0.0), torch.tensor(1.0)).expand([x.shape[1]])\n",
        "\n",
        "  with pyro.plate('locs', x.shape[1]):\n",
        "    w_prior = pyro.sample('w_prior',Normal(torch.tensor(0.0), torch.tensor(1.0)))\n",
        "  b_prior = pyro.sample('b_prior',Normal(torch.tensor([1.0]), torch.tensor([5.0])))\n",
        "  # b_prior = Normal(torch.tensor([[8.]]), torch.tensor([[1000.]])).to_event(1)\n",
        "  w_prior = w_prior.unsqueeze(-1)\n",
        "\n",
        "  prediction_mean = b_prior + torch.mm(x, w_prior)\n",
        "  #priors = {'linear.weight': w_prior, 'linear.bias': b_prior}\n",
        "  sigma = pyro.sample(\"sigma\", LogNormal(0.,5.))\n",
        "\n",
        " # lifted_module = pyro.random_module(\"module\", regression_model, priors)\n",
        " # lifted_reg_model = lifted_module()\n",
        "\n",
        "  #mu = a + w_prior*x\n",
        "  #for i in pyro.plate(\"data_loop\", len(x)):\n",
        "  with pyro.plate(\"map\", len(x)):\n",
        "   # prediction_mean = lifted_reg_model(x).squeeze(-1)\n",
        "    # prediction_mean =  w_prior*x\n",
        "    pyro.sample(\"obs\", Normal(prediction_mean, sigma), obs=y)\n",
        "\n",
        "\n",
        "from pyro.infer.autoguide import AutoDiagonalNormal, AutoDelta\n",
        "from torch.distributions import constraints\n",
        "guide = AutoDiagonalNormal(model)\n"
      ],
      "execution_count": 0,
      "outputs": []
    },
    {
      "cell_type": "code",
      "metadata": {
        "id": "IMVRbvuKHtNJ",
        "colab_type": "code",
        "colab": {}
      },
      "source": [
        "def guide(x,y):\n",
        "    weights_loc = pyro.param('weights_loc', torch.randn(1))#.expand([])\n",
        "    weights_scale = pyro.param('weights_scale', torch.ones(1), constraint=constraints.positive)        \n",
        "    sigma_loc = pyro.param('sigma_loc', torch.tensor(1.0), constraint=constraints.positive)\n",
        "    bias_loc = pyro.param('bias_loc', torch.randn(1))#.expand([])\n",
        "    bias_scale = pyro.param('bias_scale', torch.ones(1), constraint=constraints.positive)        \n",
        "    # print (pyro.param('weights_scale'))\n",
        "    # print (pyro.param('bias_scale'))\n",
        "\n",
        "    with pyro.plate('locs', x.shape[1]):\n",
        "      w_prior = pyro.sample('w_prior',Normal(weights_loc, weights_scale))\n",
        "    \n",
        "    b_prior = pyro.sample('b_prior',Normal(bias_loc, bias_scale))\n",
        "\n",
        "    sigma = pyro.sample(\"sigma\", LogNormal(sigma_loc, torch.tensor(0.05)))\n",
        "   # print (b_prior.shape,x.shape, w_prior.shape)\n",
        "    w_prior = w_prior.unsqueeze(-1)\n",
        "\n",
        "    prediction_mean = b_prior + torch.mm(x, w_prior)\n"
      ],
      "execution_count": 0,
      "outputs": []
    },
    {
      "cell_type": "code",
      "metadata": {
        "id": "MkF9lyoxFr2V",
        "colab_type": "code",
        "colab": {}
      },
      "source": [
        "model(x,y)"
      ],
      "execution_count": 0,
      "outputs": []
    },
    {
      "cell_type": "code",
      "metadata": {
        "id": "mjMU4WBhiUZu",
        "colab_type": "code",
        "outputId": "679363a7-4151-4961-e5b5-281ffeadb69a",
        "colab": {
          "base_uri": "https://localhost:8080/",
          "height": 1000
        }
      },
      "source": [
        "svi = pyro.infer.SVI(model, \n",
        "          guide, \n",
        "          optim.Adam({\"lr\": .005}), \n",
        "          loss=pyro.infer.Trace_ELBO(max_plate_nesting=1), num_samples=1000)\n",
        "\n",
        "pyro.clear_param_store()\n",
        "rec_loss = []\n",
        "for i in range(100):\n",
        "  loss = svi.step(x,y)\n",
        "  rec_loss.append(loss)\n",
        "  print('Iter %d, loss = %g' % (i,loss))\n",
        "\n",
        "# optimizer = pyro.optim.SGD({\"lr\": 1e-4, \"momentum\": 0.1})\n",
        "# pyro.clear_param_store()\n",
        "# svi = pyro.infer.SVI(model, guide, optimizer, loss=pyro.infer.Trace_ELBO(max_plate_nesting=1))\n",
        "# rec_loss = []\n",
        "# for i in range(100):\n",
        "#     loss = svi.step(x,y)\n",
        "#     rec_loss.append(loss)\n",
        "#     print('Iter %d, loss = %g' % (i,loss))"
      ],
      "execution_count": 36,
      "outputs": [
        {
          "output_type": "stream",
          "text": [
            "/usr/local/lib/python3.6/dist-packages/pyro/infer/svi.py:50: FutureWarning: The `num_samples` argument to SVI is deprecated and will be removed in a future release. Use `pyro.infer.Predictive` class to draw samples from the posterior.\n",
            "  'samples from the posterior.', FutureWarning)\n"
          ],
          "name": "stderr"
        },
        {
          "output_type": "stream",
          "text": [
            "Iter 0, loss = 1.3254e+08\n",
            "Iter 1, loss = 2.53758e+08\n",
            "Iter 2, loss = 2.14378e+08\n",
            "Iter 3, loss = 1.44604e+08\n",
            "Iter 4, loss = 1.10039e+08\n",
            "Iter 5, loss = 1.49648e+08\n",
            "Iter 6, loss = 1.5931e+08\n",
            "Iter 7, loss = 1.97832e+08\n",
            "Iter 8, loss = 1.72342e+08\n",
            "Iter 9, loss = 2.11504e+08\n",
            "Iter 10, loss = 1.47224e+08\n",
            "Iter 11, loss = 1.47376e+08\n",
            "Iter 12, loss = 9.99818e+07\n",
            "Iter 13, loss = 2.17978e+08\n",
            "Iter 14, loss = 1.88302e+08\n",
            "Iter 15, loss = 1.67405e+08\n",
            "Iter 16, loss = 1.716e+08\n",
            "Iter 17, loss = 1.14035e+08\n",
            "Iter 18, loss = 1.66675e+08\n",
            "Iter 19, loss = 1.48783e+08\n",
            "Iter 20, loss = 1.18059e+08\n",
            "Iter 21, loss = 1.27915e+08\n",
            "Iter 22, loss = 1.23322e+08\n",
            "Iter 23, loss = 1.64241e+08\n",
            "Iter 24, loss = 1.29224e+08\n",
            "Iter 25, loss = 1.14584e+08\n",
            "Iter 26, loss = 1.42492e+08\n",
            "Iter 27, loss = 1.06735e+08\n",
            "Iter 28, loss = 1.41669e+08\n",
            "Iter 29, loss = 1.45931e+08\n",
            "Iter 30, loss = 1.25862e+08\n",
            "Iter 31, loss = 1.24712e+08\n",
            "Iter 32, loss = 1.14253e+08\n",
            "Iter 33, loss = 1.49764e+08\n",
            "Iter 34, loss = 1.39396e+08\n",
            "Iter 35, loss = 1.21925e+08\n",
            "Iter 36, loss = 1.05082e+08\n",
            "Iter 37, loss = 1.41459e+08\n",
            "Iter 38, loss = 1.18406e+08\n",
            "Iter 39, loss = 1.02689e+08\n",
            "Iter 40, loss = 1.05444e+08\n",
            "Iter 41, loss = 1.42137e+08\n",
            "Iter 42, loss = 1.05308e+08\n",
            "Iter 43, loss = 1.28237e+08\n",
            "Iter 44, loss = 9.81562e+07\n",
            "Iter 45, loss = 1.25442e+08\n",
            "Iter 46, loss = 1.166e+08\n",
            "Iter 47, loss = 1.15174e+08\n",
            "Iter 48, loss = 1.0848e+08\n",
            "Iter 49, loss = 8.96497e+07\n",
            "Iter 50, loss = 1.26851e+08\n",
            "Iter 51, loss = 8.33367e+07\n",
            "Iter 52, loss = 8.76439e+07\n",
            "Iter 53, loss = 1.02963e+08\n",
            "Iter 54, loss = 1.32592e+08\n",
            "Iter 55, loss = 9.35052e+07\n",
            "Iter 56, loss = 9.31804e+07\n",
            "Iter 57, loss = 1.16268e+08\n",
            "Iter 58, loss = 1.12868e+08\n",
            "Iter 59, loss = 8.19946e+07\n",
            "Iter 60, loss = 9.13884e+07\n",
            "Iter 61, loss = 9.67721e+07\n",
            "Iter 62, loss = 1.01698e+08\n",
            "Iter 63, loss = 9.6178e+07\n",
            "Iter 64, loss = 1.2893e+08\n",
            "Iter 65, loss = 9.78442e+07\n",
            "Iter 66, loss = 1.04676e+08\n",
            "Iter 67, loss = 1.12814e+08\n",
            "Iter 68, loss = 9.12667e+07\n",
            "Iter 69, loss = 1.18034e+08\n",
            "Iter 70, loss = 1.02765e+08\n",
            "Iter 71, loss = 1.23537e+08\n",
            "Iter 72, loss = 1.20226e+08\n",
            "Iter 73, loss = 1.11865e+08\n",
            "Iter 74, loss = 8.55115e+07\n",
            "Iter 75, loss = 9.72364e+07\n",
            "Iter 76, loss = 8.56381e+07\n",
            "Iter 77, loss = 9.71311e+07\n",
            "Iter 78, loss = 8.07872e+07\n",
            "Iter 79, loss = 1.09306e+08\n",
            "Iter 80, loss = 1.05928e+08\n",
            "Iter 81, loss = 1.04957e+08\n",
            "Iter 82, loss = 1.04356e+08\n",
            "Iter 83, loss = 1.16907e+08\n",
            "Iter 84, loss = 8.4531e+07\n",
            "Iter 85, loss = 1.02112e+08\n",
            "Iter 86, loss = 1.28818e+08\n",
            "Iter 87, loss = 9.45532e+07\n",
            "Iter 88, loss = 1.06008e+08\n",
            "Iter 89, loss = 9.65957e+07\n",
            "Iter 90, loss = 8.96236e+07\n",
            "Iter 91, loss = 7.65301e+07\n",
            "Iter 92, loss = 1.02082e+08\n",
            "Iter 93, loss = 8.85975e+07\n",
            "Iter 94, loss = 8.1837e+07\n",
            "Iter 95, loss = 8.09938e+07\n",
            "Iter 96, loss = 8.15912e+07\n",
            "Iter 97, loss = 8.68706e+07\n",
            "Iter 98, loss = 8.05264e+07\n",
            "Iter 99, loss = 1.03654e+08\n"
          ],
          "name": "stdout"
        }
      ]
    },
    {
      "cell_type": "code",
      "metadata": {
        "id": "RIXztRyaiabd",
        "colab_type": "code",
        "outputId": "31c49c4b-fd40-4311-ebf5-24f0425f2a8e",
        "colab": {
          "base_uri": "https://localhost:8080/",
          "height": 929
        }
      },
      "source": [
        "fig = plt.figure(figsize = (18,6))\n",
        "plt.subplot(131)\n",
        "plt.plot(rec_loss)\n",
        "\n",
        "plt.subplot(132)\n",
        "plt.plot(x.numpy(),y.numpy(),'+')\n"
      ],
      "execution_count": 37,
      "outputs": [
        {
          "output_type": "execute_result",
          "data": {
            "text/plain": [
              "[<matplotlib.lines.Line2D at 0x7fb759a81cc0>,\n",
              " <matplotlib.lines.Line2D at 0x7fb759b43630>,\n",
              " <matplotlib.lines.Line2D at 0x7fb759b43828>,\n",
              " <matplotlib.lines.Line2D at 0x7fb759b43a20>,\n",
              " <matplotlib.lines.Line2D at 0x7fb759b4e128>,\n",
              " <matplotlib.lines.Line2D at 0x7fb759b4e2b0>,\n",
              " <matplotlib.lines.Line2D at 0x7fb759b4e048>,\n",
              " <matplotlib.lines.Line2D at 0x7fb759b4e240>,\n",
              " <matplotlib.lines.Line2D at 0x7fb759b4e438>,\n",
              " <matplotlib.lines.Line2D at 0x7fb759b4e630>,\n",
              " <matplotlib.lines.Line2D at 0x7fb759c59fd0>,\n",
              " <matplotlib.lines.Line2D at 0x7fb759b4ed68>,\n",
              " <matplotlib.lines.Line2D at 0x7fb759b4e080>,\n",
              " <matplotlib.lines.Line2D at 0x7fb759b74358>,\n",
              " <matplotlib.lines.Line2D at 0x7fb759b74550>,\n",
              " <matplotlib.lines.Line2D at 0x7fb759b74748>,\n",
              " <matplotlib.lines.Line2D at 0x7fb759b74940>,\n",
              " <matplotlib.lines.Line2D at 0x7fb759b74b38>,\n",
              " <matplotlib.lines.Line2D at 0x7fb759b74d30>,\n",
              " <matplotlib.lines.Line2D at 0x7fb759b74f28>,\n",
              " <matplotlib.lines.Line2D at 0x7fb759b74048>,\n",
              " <matplotlib.lines.Line2D at 0x7fb759b64358>,\n",
              " <matplotlib.lines.Line2D at 0x7fb759b64550>,\n",
              " <matplotlib.lines.Line2D at 0x7fb759b64748>,\n",
              " <matplotlib.lines.Line2D at 0x7fb759b64940>,\n",
              " <matplotlib.lines.Line2D at 0x7fb759b64b38>,\n",
              " <matplotlib.lines.Line2D at 0x7fb759b64d30>,\n",
              " <matplotlib.lines.Line2D at 0x7fb759b64f28>,\n",
              " <matplotlib.lines.Line2D at 0x7fb759b64048>,\n",
              " <matplotlib.lines.Line2D at 0x7fb759b5c358>,\n",
              " <matplotlib.lines.Line2D at 0x7fb759b5c550>,\n",
              " <matplotlib.lines.Line2D at 0x7fb759b5c748>]"
            ]
          },
          "metadata": {
            "tags": []
          },
          "execution_count": 37
        },
        {
          "output_type": "display_data",
          "data": {
            "image/png": "[encoded data removed]",
            "text/plain": [
              "<Figure size 1296x432 with 2 Axes>"
            ]
          },
          "metadata": {
            "tags": []
          }
        }
      ]
    },
    {
      "cell_type": "markdown",
      "metadata": {
        "id": "QfxkI-4sSwBv",
        "colab_type": "text"
      },
      "source": [
        ""
      ]
    },
    {
      "cell_type": "markdown",
      "metadata": {
        "id": "K3j-K2IkIhji",
        "colab_type": "text"
      },
      "source": [
        ""
      ]
    },
    {
      "cell_type": "code",
      "metadata": {
        "id": "GmvPL2z0QeJT",
        "colab_type": "code",
        "colab": {
          "base_uri": "https://localhost:8080/",
          "height": 599
        },
        "outputId": "71641d99-1d58-42a2-b570-5ee6a09e725b"
      },
      "source": [
        "\n",
        "# estimates = svi.run(x,y)\n",
        "# sites = ['weights_loc']#, 'weights_scale', 'bias_loc', 'bias_scale','sigma_loc']\n",
        "# svi_samples = {site: EmpiricalMarginal(estimates, sites=site).enumerate_support().detach().cpu().numpy()\n",
        "#                        for site in sites}\n"
      ],
      "execution_count": 31,
      "outputs": [
        {
          "output_type": "stream",
          "text": [
            "/usr/local/lib/python3.6/dist-packages/pyro/infer/svi.py:85: FutureWarning: The `SVI.run` method is deprecated and will be removed in a future release. For inference, use `SVI.step` directly, and for predictions, use the `pyro.infer.Predictive` class.\n",
            "  FutureWarning)\n"
          ],
          "name": "stderr"
        },
        {
          "output_type": "error",
          "ename": "RuntimeError",
          "evalue": "ignored",
          "traceback": [
            "\u001b[0;31m---------------------------------------------------------------------------\u001b[0m",
            "\u001b[0;31mRuntimeError\u001b[0m                              Traceback (most recent call last)",
            "\u001b[0;32m<ipython-input-31-4169c327e57d>\u001b[0m in \u001b[0;36m<module>\u001b[0;34m()\u001b[0m\n\u001b[1;32m      3\u001b[0m \u001b[0msites\u001b[0m \u001b[0;34m=\u001b[0m \u001b[0;34m[\u001b[0m\u001b[0;34m'weights_loc'\u001b[0m\u001b[0;34m]\u001b[0m\u001b[0;31m#, 'weights_scale', 'bias_loc', 'bias_scale','sigma_loc']\u001b[0m\u001b[0;34m\u001b[0m\u001b[0;34m\u001b[0m\u001b[0m\n\u001b[1;32m      4\u001b[0m svi_samples = {site: EmpiricalMarginal(estimates, sites=site).enumerate_support().detach().cpu().numpy()\n\u001b[0;32m----> 5\u001b[0;31m                        for site in sites}\n\u001b[0m",
            "\u001b[0;32m<ipython-input-31-4169c327e57d>\u001b[0m in \u001b[0;36m<dictcomp>\u001b[0;34m(.0)\u001b[0m\n\u001b[1;32m      3\u001b[0m \u001b[0msites\u001b[0m \u001b[0;34m=\u001b[0m \u001b[0;34m[\u001b[0m\u001b[0;34m'weights_loc'\u001b[0m\u001b[0;34m]\u001b[0m\u001b[0;31m#, 'weights_scale', 'bias_loc', 'bias_scale','sigma_loc']\u001b[0m\u001b[0;34m\u001b[0m\u001b[0;34m\u001b[0m\u001b[0m\n\u001b[1;32m      4\u001b[0m svi_samples = {site: EmpiricalMarginal(estimates, sites=site).enumerate_support().detach().cpu().numpy()\n\u001b[0;32m----> 5\u001b[0;31m                        for site in sites}\n\u001b[0m",
            "\u001b[0;32m/usr/local/lib/python3.6/dist-packages/pyro/infer/abstract_infer.py\u001b[0m in \u001b[0;36m__init__\u001b[0;34m(self, trace_posterior, sites, validate_args)\u001b[0m\n\u001b[1;32m     37\u001b[0m         \u001b[0mself\u001b[0m\u001b[0;34m.\u001b[0m\u001b[0m_weights_buffer\u001b[0m \u001b[0;34m=\u001b[0m \u001b[0mdefaultdict\u001b[0m\u001b[0;34m(\u001b[0m\u001b[0mlist\u001b[0m\u001b[0;34m)\u001b[0m\u001b[0;34m\u001b[0m\u001b[0;34m\u001b[0m\u001b[0m\n\u001b[1;32m     38\u001b[0m         \u001b[0mself\u001b[0m\u001b[0;34m.\u001b[0m\u001b[0m_populate_traces\u001b[0m\u001b[0;34m(\u001b[0m\u001b[0mtrace_posterior\u001b[0m\u001b[0;34m,\u001b[0m \u001b[0msites\u001b[0m\u001b[0;34m)\u001b[0m\u001b[0;34m\u001b[0m\u001b[0;34m\u001b[0m\u001b[0m\n\u001b[0;32m---> 39\u001b[0;31m         \u001b[0msamples\u001b[0m\u001b[0;34m,\u001b[0m \u001b[0mweights\u001b[0m \u001b[0;34m=\u001b[0m \u001b[0mself\u001b[0m\u001b[0;34m.\u001b[0m\u001b[0m_get_samples_and_weights\u001b[0m\u001b[0;34m(\u001b[0m\u001b[0;34m)\u001b[0m\u001b[0;34m\u001b[0m\u001b[0;34m\u001b[0m\u001b[0m\n\u001b[0m\u001b[1;32m     40\u001b[0m         super(EmpiricalMarginal, self).__init__(samples,\n\u001b[1;32m     41\u001b[0m                                                 \u001b[0mweights\u001b[0m\u001b[0;34m,\u001b[0m\u001b[0;34m\u001b[0m\u001b[0;34m\u001b[0m\u001b[0m\n",
            "\u001b[0;32m/usr/local/lib/python3.6/dist-packages/pyro/infer/abstract_infer.py\u001b[0m in \u001b[0;36m_get_samples_and_weights\u001b[0;34m(self)\u001b[0m\n\u001b[1;32m     59\u001b[0m             \u001b[0;32mreturn\u001b[0m \u001b[0msamples_by_chain\u001b[0m\u001b[0;34m[\u001b[0m\u001b[0;36m0\u001b[0m\u001b[0;34m]\u001b[0m\u001b[0;34m,\u001b[0m \u001b[0mweights_by_chain\u001b[0m\u001b[0;34m[\u001b[0m\u001b[0;36m0\u001b[0m\u001b[0;34m]\u001b[0m\u001b[0;34m\u001b[0m\u001b[0;34m\u001b[0m\u001b[0m\n\u001b[1;32m     60\u001b[0m         \u001b[0;32melse\u001b[0m\u001b[0;34m:\u001b[0m\u001b[0;34m\u001b[0m\u001b[0;34m\u001b[0m\u001b[0m\n\u001b[0;32m---> 61\u001b[0;31m             \u001b[0;32mreturn\u001b[0m \u001b[0mtorch\u001b[0m\u001b[0;34m.\u001b[0m\u001b[0mstack\u001b[0m\u001b[0;34m(\u001b[0m\u001b[0msamples_by_chain\u001b[0m\u001b[0;34m,\u001b[0m \u001b[0mdim\u001b[0m\u001b[0;34m=\u001b[0m\u001b[0;36m0\u001b[0m\u001b[0;34m)\u001b[0m\u001b[0;34m,\u001b[0m \u001b[0mtorch\u001b[0m\u001b[0;34m.\u001b[0m\u001b[0mstack\u001b[0m\u001b[0;34m(\u001b[0m\u001b[0mweights_by_chain\u001b[0m\u001b[0;34m,\u001b[0m \u001b[0mdim\u001b[0m\u001b[0;34m=\u001b[0m\u001b[0;36m0\u001b[0m\u001b[0;34m)\u001b[0m\u001b[0;34m\u001b[0m\u001b[0;34m\u001b[0m\u001b[0m\n\u001b[0m\u001b[1;32m     62\u001b[0m \u001b[0;34m\u001b[0m\u001b[0m\n\u001b[1;32m     63\u001b[0m     \u001b[0;32mdef\u001b[0m \u001b[0m_add_sample\u001b[0m\u001b[0;34m(\u001b[0m\u001b[0mself\u001b[0m\u001b[0;34m,\u001b[0m \u001b[0mvalue\u001b[0m\u001b[0;34m,\u001b[0m \u001b[0mlog_weight\u001b[0m\u001b[0;34m=\u001b[0m\u001b[0;32mNone\u001b[0m\u001b[0;34m,\u001b[0m \u001b[0mchain_id\u001b[0m\u001b[0;34m=\u001b[0m\u001b[0;36m0\u001b[0m\u001b[0;34m)\u001b[0m\u001b[0;34m:\u001b[0m\u001b[0;34m\u001b[0m\u001b[0;34m\u001b[0m\u001b[0m\n",
            "\u001b[0;31mRuntimeError\u001b[0m: stack expects a non-empty TensorList"
          ]
        }
      ]
    },
    {
      "cell_type": "code",
      "metadata": {
        "id": "fzB12hl_SbKW",
        "colab_type": "code",
        "colab": {}
      },
      "source": [
        ""
      ],
      "execution_count": 0,
      "outputs": []
    }
  ]
}
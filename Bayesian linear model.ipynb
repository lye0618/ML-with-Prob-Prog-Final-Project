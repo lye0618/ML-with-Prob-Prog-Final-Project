{
 "cells": [
  {
   "cell_type": "code",
   "execution_count": 2,
   "metadata": {
    "colab": {
     "base_uri": "https://localhost:8080/",
     "height": 136
    },
    "colab_type": "code",
    "id": "wac_XZpWxCy6",
    "outputId": "0669bd05-2614-434f-ceaf-c39f3fca1675"
   },
   "outputs": [],
   "source": [
    "#!pip install pyro-ppl\n",
    "\n",
    "import os\n",
    "from functools import partial\n",
    "import numpy as np\n",
    "import pandas as pd\n",
    "import seaborn as sns\n",
    "import torch\n",
    "import torch.nn as nn\n",
    "import math\n",
    "\n",
    "import matplotlib.pyplot as plt\n",
    "\n",
    "import pyro\n",
    "from pyro.distributions import Normal, Uniform, Delta\n",
    "from pyro.infer import SVI, Trace_ELBO\n",
    "from pyro.optim import Adam\n",
    "from pyro.distributions.util import logsumexp\n",
    "from pyro.infer import EmpiricalMarginal, SVI, Trace_ELBO, TracePredictive\n",
    "from pyro.infer.mcmc import MCMC, NUTS\n",
    "import pyro.optim as optim\n",
    "import pyro.poutine as poutine"
   ]
  },
  {
   "cell_type": "code",
   "execution_count": 1,
   "metadata": {
    "colab": {
     "base_uri": "https://localhost:8080/",
     "height": 85
    },
    "colab_type": "code",
    "id": "92yx9LIGyB9L",
    "outputId": "7ad3070a-f5bb-456a-f675-708aa9dd4d64",
    "scrolled": true
   },
   "outputs": [
    {
     "name": "stderr",
     "output_type": "stream",
     "text": [
      "/mnt/c/Users/aksmi/Desktop/Drive/Fall '19/Courses/ML with Probabilistic Programming/course_repo/probprog/lib/python3.6/site-packages/pandas/core/series.py:853: RuntimeWarning: divide by zero encountered in log\n",
      "  result = getattr(ufunc, method)(*inputs, **kwargs)\n",
      "/mnt/c/Users/aksmi/Desktop/Drive/Fall '19/Courses/ML with Probabilistic Programming/course_repo/probprog/lib/python3.6/site-packages/pandas/core/algorithms.py:1977: RuntimeWarning: invalid value encountered in subtract\n",
      "  out_arr[res_indexer] = arr[res_indexer] - arr[lag_indexer]\n"
     ]
    }
   ],
   "source": [
    "from preprocess import preprocess\n",
    "\n",
    "X_tr,y_tr,X_ts,y_ts = preprocess()"
   ]
  },
  {
   "cell_type": "code",
   "execution_count": 228,
   "metadata": {
    "colab": {},
    "colab_type": "code",
    "id": "H79kVMgfjQw6"
   },
   "outputs": [],
   "source": [
    "#!pip install http://download.pytorch.org/whl/cpu/torch-0.4.0-cp27-cp27mu-linux_x86_64.whl \n",
    "#!pip install pyro-ppl\n",
    "\n",
    "import os\n",
    "from functools import partial\n",
    "import numpy as np\n",
    "import pandas as pd\n",
    "import seaborn as sns\n",
    "import torch\n",
    "import torch.nn as nn\n",
    "import math\n",
    "\n",
    "import matplotlib.pyplot as plt\n",
    "\n",
    "import pyro\n",
    "from pyro.distributions import Normal, Uniform, Delta, LogNormal\n",
    "from pyro.infer import SVI, Trace_ELBO, config_enumerate\n",
    "from pyro.optim import Adam\n",
    "from pyro.distributions.util import logsumexp\n",
    "from pyro.infer import EmpiricalMarginal, SVI, Trace_ELBO, TracePredictive\n",
    "from pyro.infer.mcmc import MCMC, NUTS\n",
    "import pyro.optim as optim\n",
    "import pyro.poutine as poutine\n",
    "\n",
    "\n",
    "# The true model, with randomly generated weights and fixed noise level\n",
    "#noise_level = 0.1\n",
    "x = X_tr\n",
    "y = y_tr"
   ]
  },
  {
   "cell_type": "code",
   "execution_count": 229,
   "metadata": {
    "colab": {
     "base_uri": "https://localhost:8080/",
     "height": 34
    },
    "colab_type": "code",
    "id": "x2GbJomN8sFb",
    "outputId": "fa8c1115-ff6d-482e-df36-38d5d5969334"
   },
   "outputs": [
    {
     "data": {
      "text/plain": [
       "torch.Size([20660, 19])"
      ]
     },
     "execution_count": 229,
     "metadata": {},
     "output_type": "execute_result"
    }
   ],
   "source": [
    "x.shape"
   ]
  },
  {
   "cell_type": "code",
   "execution_count": 230,
   "metadata": {
    "colab": {},
    "colab_type": "code",
    "id": "tbrg6Vz9GKxM"
   },
   "outputs": [],
   "source": [
    "pyro.enable_validation(True)\n",
    "pyro.clear_param_store()"
   ]
  },
  {
   "cell_type": "code",
   "execution_count": 231,
   "metadata": {
    "colab": {},
    "colab_type": "code",
    "id": "DTCRRzL6Gk6g"
   },
   "outputs": [],
   "source": [
    "# # The prior\n",
    "# @config_enumerate\n",
    "# def model(x,y):\n",
    "#     with pyro.plate('locs', x.shape[1]):\n",
    "#         w_prior = pyro.sample('w_prior',Normal(torch.tensor(0.0), torch.tensor(1.0)))\n",
    "#     b_prior = pyro.sample('b_prior',Normal(torch.tensor([1.0]), torch.tensor([5.0])))\n",
    "#     # b_prior = Normal(torch.tensor([[8.]]), torch.tensor([[1000.]])).to_event(1)\n",
    "#     w_prior = w_prior.unsqueeze(-1)\n",
    "\n",
    "#     prediction_mean = b_prior + torch.mm(x, w_prior)\n",
    "#     #priors = {'linear.weight': w_prior, 'linear.bias': b_prior}\n",
    "#     sigma = pyro.sample(\"sigma\", LogNormal(0.,5.))\n",
    "\n",
    "#     # lifted_module = pyro.random_module(\"module\", regression_model, priors)\n",
    "#     # lifted_reg_model = lifted_module()\n",
    "\n",
    "#     #mu = a + w_prior*x\n",
    "#     #for i in pyro.plate(\"data_loop\", len(x)):\n",
    "#     with pyro.plate(\"map\", len(x)):\n",
    "#         # prediction_mean = lifted_reg_model(x).squeeze(-1)\n",
    "#         # prediction_mean =  w_prior*x\n",
    "#         pyro.sample(\"obs\", Normal(prediction_mean, sigma), obs=y)\n",
    "    \n",
    "#     return y\n",
    "\n",
    "\n",
    "# from pyro.infer.autoguide import AutoDiagonalNormal, AutoDelta\n",
    "# from torch.distributions import constraints\n",
    "# guide = AutoDelta(model)\n"
   ]
  },
  {
   "cell_type": "code",
   "execution_count": 232,
   "metadata": {
    "colab": {},
    "colab_type": "code",
    "id": "DTCRRzL6Gk6g"
   },
   "outputs": [],
   "source": [
    "# The prior\n",
    "@config_enumerate\n",
    "def model(x,y):\n",
    "    w_prior1 = pyro.sample('w_prior1',Normal(torch.tensor(0.0), torch.tensor(1.0)))\n",
    "    w_prior2 = pyro.sample('w_prior2',Normal(torch.tensor(0.0), torch.tensor(1.0)))\n",
    "    w_prior3 = pyro.sample('w_prior3',Normal(torch.tensor(0.0), torch.tensor(1.0)))\n",
    "    w_prior4 = pyro.sample('w_prior4',Normal(torch.tensor(0.0), torch.tensor(1.0)))\n",
    "    w_prior5 = pyro.sample('w_prior5',Normal(torch.tensor(0.0), torch.tensor(1.0)))\n",
    "    w_prior6 = pyro.sample('w_prior6',Normal(torch.tensor(0.0), torch.tensor(1.0)))\n",
    "    w_prior7 = pyro.sample('w_prior7',Normal(torch.tensor(0.0), torch.tensor(1.0)))\n",
    "    w_prior8 = pyro.sample('w_prior8',Normal(torch.tensor(0.0), torch.tensor(1.0)))\n",
    "    w_prior9 = pyro.sample('w_prior9',Normal(torch.tensor(0.0), torch.tensor(1.0)))\n",
    "    w_prior10 = pyro.sample('w_prior10',Normal(torch.tensor(0.0), torch.tensor(1.0)))\n",
    "    w_prior11 = pyro.sample('w_prior11',Normal(torch.tensor(0.0), torch.tensor(1.0)))\n",
    "    w_prior12 = pyro.sample('w_prior12',Normal(torch.tensor(0.0), torch.tensor(1.0)))\n",
    "    w_prior13 = pyro.sample('w_prior13',Normal(torch.tensor(0.0), torch.tensor(1.0)))\n",
    "    w_prior14 = pyro.sample('w_prior14',Normal(torch.tensor(0.0), torch.tensor(1.0)))\n",
    "    w_prior15 = pyro.sample('w_prior15',Normal(torch.tensor(0.0), torch.tensor(1.0)))\n",
    "    w_prior16 = pyro.sample('w_prior16',Normal(torch.tensor(0.0), torch.tensor(1.0)))\n",
    "    w_prior17 = pyro.sample('w_prior17',Normal(torch.tensor(0.0), torch.tensor(1.0)))\n",
    "    w_prior18 = pyro.sample('w_prior18',Normal(torch.tensor(0.0), torch.tensor(1.0)))\n",
    "    w_prior19 = pyro.sample('w_prior19',Normal(torch.tensor(0.0), torch.tensor(1.0)))\n",
    "    \n",
    "    b_prior = pyro.sample('b_prior',Normal(torch.tensor([1.0]), torch.tensor([5.0])))\n",
    "    # b_prior = Normal(torch.tensor([[8.]]), torch.tensor([[1000.]])).to_event(1)\n",
    "    # w_prior = w_prior.unsqueeze(-1)\n",
    "\n",
    "    prediction_mean = b_prior + w_prior1 * x[:, 0] + \\\n",
    "                      w_prior2 * x[:, 1] + w_prior3 * x[:, 2] + \\\n",
    "                      w_prior4 * x[:, 3] + w_prior5 * x[:, 4] + \\\n",
    "                      w_prior6 * x[:, 5] + w_prior7 * x[:, 6] + \\\n",
    "                      w_prior8 * x[:, 7] + w_prior9 * x[:, 8] + \\\n",
    "                      w_prior10 * x[:, 9] + w_prior11 * x[:, 10] + \\\n",
    "                      w_prior12 * x[:, 11] + w_prior13 * x[:, 12] + \\\n",
    "                      w_prior14 * x[:, 13] + w_prior15 * x[:, 14] + \\\n",
    "                      w_prior16 * x[:, 15] + w_prior17 * x[:, 16] + \\\n",
    "                      w_prior18 * x[:, 17] + w_prior19 * x[:, 18]\n",
    "    \n",
    "    sigma = pyro.sample(\"sigma\", LogNormal(0.,5.))\n",
    "\n",
    "    # lifted_module = pyro.random_module(\"module\", regression_model, priors)\n",
    "    # lifted_reg_model = lifted_module()\n",
    "\n",
    "    #mu = a + w_prior*x\n",
    "    #for i in pyro.plate(\"data_loop\", len(x)):\n",
    "    with pyro.plate(\"map\", len(x)):\n",
    "        # prediction_mean = lifted_reg_model(x).squeeze(-1)\n",
    "        # prediction_mean =  w_prior*x\n",
    "        pyro.sample(\"obs\", Normal(prediction_mean, sigma), obs=y)\n",
    "\n",
    "\n",
    "# from pyro.infer.autoguide import AutoDiagonalNormal, AutoDelta\n",
    "# from torch.distributions import constraints\n",
    "# guide = AutoDelta(model)\n"
   ]
  },
  {
   "cell_type": "code",
   "execution_count": 233,
   "metadata": {},
   "outputs": [],
   "source": [
    "def guide(x,y):\n",
    "    \n",
    "    weights_loc = pyro.param('weights_loc', torch.randn(x.shape[1]))\n",
    "    weights_scale = pyro.param('weights_scale', torch.ones(1), constraint=constraints.positive)        \n",
    "    \n",
    "    bias_loc = pyro.param('bias_loc', torch.randn(1))\n",
    "    bias_scale = pyro.param('bias_scale', torch.ones(1), constraint=constraints.positive)\n",
    "    \n",
    "    sigma_loc = pyro.param('sigma_loc', torch.tensor(1.0), constraint=constraints.positive)\n",
    "\n",
    "    \n",
    "    w_prior1 = pyro.sample('w_prior1',Normal(weights_loc[0], weights_scale))\n",
    "    w_prior2 = pyro.sample('w_prior2',Normal(weights_loc[1], weights_scale))\n",
    "    w_prior3 = pyro.sample('w_prior3',Normal(weights_loc[2], weights_scale))\n",
    "    w_prior4 = pyro.sample('w_prior4',Normal(weights_loc[3], weights_scale))\n",
    "    w_prior5 = pyro.sample('w_prior5',Normal(weights_loc[4], weights_scale))\n",
    "    w_prior6 = pyro.sample('w_prior6',Normal(weights_loc[5], weights_scale))\n",
    "    w_prior7 = pyro.sample('w_prior7',Normal(weights_loc[6], weights_scale))\n",
    "    w_prior8 = pyro.sample('w_prior8',Normal(weights_loc[7], weights_scale))\n",
    "    w_prior9 = pyro.sample('w_prior9',Normal(weights_loc[8], weights_scale))\n",
    "    w_prior10 = pyro.sample('w_prior10',Normal(weights_loc[9], weights_scale))\n",
    "    w_prior11 = pyro.sample('w_prior11',Normal(weights_loc[10], weights_scale))\n",
    "    w_prior12 = pyro.sample('w_prior12',Normal(weights_loc[11], weights_scale))\n",
    "    w_prior13 = pyro.sample('w_prior13',Normal(weights_loc[12], weights_scale))\n",
    "    w_prior14 = pyro.sample('w_prior14',Normal(weights_loc[13], weights_scale))\n",
    "    w_prior15 = pyro.sample('w_prior15',Normal(weights_loc[14], weights_scale))\n",
    "    w_prior16 = pyro.sample('w_prior16',Normal(weights_loc[15], weights_scale))\n",
    "    w_prior17 = pyro.sample('w_prior17',Normal(weights_loc[16], weights_scale))\n",
    "    w_prior18 = pyro.sample('w_prior18',Normal(weights_loc[17], weights_scale))\n",
    "    w_prior19 = pyro.sample('w_prior19',Normal(weights_loc[18], weights_scale))\n",
    "    \n",
    "    b_prior = pyro.sample('b_prior',Normal(bias_loc, bias_scale))\n",
    "\n",
    "    sigma = pyro.sample(\"sigma\", LogNormal(sigma_loc, torch.tensor(0.05)))\n",
    "\n",
    "    prediction_mean = b_prior + w_prior1 * x[:, 0] + \\\n",
    "                      w_prior2 * x[:, 1] + w_prior3 * x[:, 2] + \\\n",
    "                      w_prior4 * x[:, 3] + w_prior5 * x[:, 4] + \\\n",
    "                      w_prior6 * x[:, 5] + w_prior7 * x[:, 6] + \\\n",
    "                      w_prior8 * x[:, 7] + w_prior9 * x[:, 8] + \\\n",
    "                      w_prior10 * x[:, 9] + w_prior11 * x[:, 10] + \\\n",
    "                      w_prior12 * x[:, 11] + w_prior13 * x[:, 12] + \\\n",
    "                      w_prior14 * x[:, 13] + w_prior15 * x[:, 14] + \\\n",
    "                      w_prior16 * x[:, 15] + w_prior17 * x[:, 16] + \\\n",
    "                      w_prior18 * x[:, 17] + w_prior19 * x[:, 18]"
   ]
  },
  {
   "cell_type": "code",
   "execution_count": 234,
   "metadata": {
    "colab": {},
    "colab_type": "code",
    "id": "IMVRbvuKHtNJ"
   },
   "outputs": [],
   "source": [
    "# def guide(x,y):\n",
    "#     weights_loc = pyro.param('weights_loc', torch.randn(1))#.expand([])\n",
    "#     weights_scale = pyro.param('weights_scale', torch.ones(1), constraint=constraints.positive)        \n",
    "#     sigma_loc = pyro.param('sigma_loc', torch.tensor(1.0), constraint=constraints.positive)\n",
    "#     bias_loc = pyro.param('bias_loc', torch.randn(1))#.expand([])\n",
    "#     bias_scale = pyro.param('bias_scale', torch.ones(1), constraint=constraints.positive)        \n",
    "#     # print (pyro.param('weights_scale'))\n",
    "#     # print (pyro.param('bias_scale'))\n",
    "\n",
    "#     with pyro.plate('locs', x.shape[1]):\n",
    "#         w_prior = pyro.sample('w_prior',Normal(weights_loc, weights_scale))\n",
    "    \n",
    "#     b_prior = pyro.sample('b_prior',Normal(bias_loc, bias_scale))\n",
    "\n",
    "#     sigma = pyro.sample(\"sigma\", LogNormal(sigma_loc, torch.tensor(0.05)))\n",
    "#    # print (b_prior.shape,x.shape, w_prior.shape)\n",
    "#     w_prior = w_prior.unsqueeze(-1)\n",
    "\n",
    "#     prediction_mean = b_prior + torch.mm(x, w_prior)\n"
   ]
  },
  {
   "cell_type": "code",
   "execution_count": 235,
   "metadata": {
    "colab": {},
    "colab_type": "code",
    "id": "MkF9lyoxFr2V"
   },
   "outputs": [],
   "source": [
    "model(x,y)"
   ]
  },
  {
   "cell_type": "code",
   "execution_count": 236,
   "metadata": {
    "colab": {
     "base_uri": "https://localhost:8080/",
     "height": 1000
    },
    "colab_type": "code",
    "id": "mjMU4WBhiUZu",
    "outputId": "679363a7-4151-4961-e5b5-281ffeadb69a",
    "scrolled": true
   },
   "outputs": [
    {
     "name": "stdout",
     "output_type": "stream",
     "text": [
      "Iter 0, loss = 76731.6\n",
      "Iter 50, loss = 59968.6\n",
      "Iter 100, loss = 52277.6\n",
      "Iter 150, loss = 52177.5\n",
      "Iter 200, loss = 52731.3\n",
      "Iter 250, loss = 48728.6\n",
      "Iter 300, loss = 43769.6\n",
      "Iter 350, loss = 40260.2\n",
      "Iter 400, loss = 36609.9\n",
      "Iter 450, loss = 35717.4\n",
      "Iter 500, loss = 34222.6\n",
      "Iter 550, loss = 32773.8\n",
      "Iter 600, loss = 28594.4\n",
      "Iter 650, loss = 28292.9\n",
      "Iter 700, loss = 28594.7\n",
      "Iter 750, loss = 27361.6\n",
      "Iter 800, loss = 27659.7\n",
      "Iter 850, loss = 25599.5\n",
      "Iter 900, loss = 25769.3\n",
      "Iter 950, loss = 25359\n"
     ]
    }
   ],
   "source": [
    "svi = pyro.infer.SVI(model, \n",
    "          guide, \n",
    "          optim.Adam({\"lr\": .005}), \n",
    "          loss=pyro.infer.Trace_ELBO(max_plate_nesting=1), num_samples=1000)\n",
    "\n",
    "pyro.clear_param_store()\n",
    "rec_loss = []\n",
    "for i in range(1000):\n",
    "    loss = svi.step(x,y)\n",
    "    rec_loss.append(loss)\n",
    "    if not i % 50:\n",
    "        print('Iter %d, loss = %g' % (i,loss))\n",
    "\n",
    "# optimizer = pyro.optim.SGD({\"lr\": 1e-4, \"momentum\": 0.1})\n",
    "# pyro.clear_param_store()\n",
    "# svi = pyro.infer.SVI(model, guide, optimizer, loss=pyro.infer.Trace_ELBO(max_plate_nesting=1))\n",
    "# rec_loss = []\n",
    "# for i in range(100):\n",
    "#     loss = svi.step(x,y)\n",
    "#     rec_loss.append(loss)\n",
    "#     print('Iter %d, loss = %g' % (i,loss))"
   ]
  },
  {
   "cell_type": "code",
   "execution_count": 224,
   "metadata": {
    "colab": {
     "base_uri": "https://localhost:8080/",
     "height": 929
    },
    "colab_type": "code",
    "id": "RIXztRyaiabd",
    "outputId": "31c49c4b-fd40-4311-ebf5-24f0425f2a8e",
    "scrolled": false
   },
   "outputs": [
    {
     "data": {
      "image/png": "[encoded data removed]",
      "text/plain": [
       "<Figure size 1296x432 with 1 Axes>"
      ]
     },
     "metadata": {
      "needs_background": "light"
     },
     "output_type": "display_data"
    }
   ],
   "source": [
    "fig = plt.figure(figsize = (18,6))\n",
    "plt.subplot(131)\n",
    "plt.plot(rec_loss)\n",
    "plt.show()\n",
    "# plt.subplot(132)\n",
    "# plt.plot(x.numpy(), y.numpy(), '+')"
   ]
  },
  {
   "cell_type": "markdown",
   "metadata": {
    "colab_type": "text",
    "id": "QfxkI-4sSwBv"
   },
   "source": [
    "  "
   ]
  },
  {
   "cell_type": "markdown",
   "metadata": {
    "colab_type": "text",
    "id": "K3j-K2IkIhji"
   },
   "source": [
    "  "
   ]
  },
  {
   "cell_type": "code",
   "execution_count": 225,
   "metadata": {},
   "outputs": [],
   "source": [
    "def summary(samples):\n",
    "    site_stats = {}\n",
    "    for site_name, values in samples.items():\n",
    "        marginal_site = pd.DataFrame(values)\n",
    "        describe = marginal_site.describe(percentiles=[.05, 0.25, 0.5, 0.75, 0.95]).transpose()\n",
    "        site_stats[site_name] = describe[[\"mean\", \"std\", \"5%\", \"25%\", \"50%\", \"75%\", \"95%\"]]\n",
    "    return site_stats"
   ]
  },
  {
   "cell_type": "code",
   "execution_count": 226,
   "metadata": {
    "colab": {
     "base_uri": "https://localhost:8080/",
     "height": 599
    },
    "colab_type": "code",
    "id": "GmvPL2z0QeJT",
    "outputId": "71641d99-1d58-42a2-b570-5ee6a09e725b",
    "scrolled": true
   },
   "outputs": [],
   "source": [
    "estimates = svi.run(x,y)\n",
    "sites = ['w_prior1', 'w_prior2', 'w_prior3', 'w_prior4', 'w_prior5', 'w_prior6', \n",
    "         'w_prior7', 'w_prior8', 'w_prior9', 'w_prior10', 'w_prior11', 'w_prior12', 'w_prior13', 'w_prior14', 'w_prior15', 'w_prior16', \n",
    "         'w_prior17', 'w_prior18', 'w_prior19', 'b_prior', 'sigma']\n",
    "svi_samples = {site: EmpiricalMarginal(estimates, sites=site).enumerate_support().detach().cpu().numpy()\n",
    "                       for site in sites}"
   ]
  },
  {
   "cell_type": "code",
   "execution_count": 227,
   "metadata": {
    "scrolled": true
   },
   "outputs": [
    {
     "name": "stdout",
     "output_type": "stream",
     "text": [
      "Site: w_prior1\n",
      "       mean       std        5%       25%       50%       75%       95%\n",
      "0  0.022787  0.104829 -0.143971 -0.049555  0.020003  0.086056  0.202148 \n",
      "\n",
      "Site: w_prior2\n",
      "       mean       std        5%       25%       50%       75%       95%\n",
      "0  0.013348  0.110017 -0.170473 -0.059731  0.011931  0.084301  0.194191 \n",
      "\n",
      "Site: w_prior3\n",
      "       mean       std        5%       25%       50%       75%       95%\n",
      "0  0.005482  0.106771 -0.167944 -0.061693  0.004551  0.078375  0.182356 \n",
      "\n",
      "Site: w_prior4\n",
      "       mean       std        5%       25%       50%       75%       95%\n",
      "0 -0.087273  0.109757 -0.264956 -0.165052 -0.086246 -0.006343  0.088485 \n",
      "\n",
      "Site: w_prior5\n",
      "       mean       std        5%       25%     50%       75%       95%\n",
      "0  0.042948  0.106841 -0.133472 -0.032272  0.0468  0.117144  0.215822 \n",
      "\n",
      "Site: w_prior6\n",
      "       mean      std        5%       25%       50%       75%      95%\n",
      "0 -0.012093  0.11075 -0.197619 -0.085426 -0.014394  0.060888  0.17122 \n",
      "\n",
      "Site: w_prior7\n",
      "       mean       std        5%       25%       50%       75%       95%\n",
      "0  0.002647  0.112199 -0.174162 -0.075395  0.003207  0.077185  0.196743 \n",
      "\n",
      "Site: w_prior8\n",
      "       mean       std       5%      25%       50%      75%       95%\n",
      "0 -0.100953  0.106413 -0.27769 -0.17019 -0.101713 -0.02764  0.062957 \n",
      "\n",
      "Site: w_prior9\n",
      "       mean       std        5%       25%       50%       75%       95%\n",
      "0  0.026162  0.107543 -0.143527 -0.046216  0.024555  0.099445  0.203313 \n",
      "\n",
      "Site: w_prior10\n",
      "       mean       std        5%       25%       50%       75%       95%\n",
      "0 -0.006008  0.105113 -0.175427 -0.076039 -0.008834  0.064668  0.167911 \n",
      "\n",
      "Site: w_prior11\n",
      "       mean       std        5%       25%       50%       75%      95%\n",
      "0  0.032225  0.106703 -0.138604 -0.038406  0.031631  0.100812  0.21325 \n",
      "\n",
      "Site: w_prior12\n",
      "       mean       std        5%       25%       50%       75%       95%\n",
      "0 -0.082753  0.108206 -0.261981 -0.156862 -0.083757 -0.007716  0.089816 \n",
      "\n",
      "Site: w_prior13\n",
      "       mean      std        5%       25%       50%       75%      95%\n",
      "0  0.035663  0.11036 -0.146705 -0.035441  0.036768  0.106824  0.21543 \n",
      "\n",
      "Site: w_prior14\n",
      "       mean       std        5%       25%      50%       75%       95%\n",
      "0  0.017301  0.107932 -0.161755 -0.057945  0.01675  0.088427  0.195101 \n",
      "\n",
      "Site: w_prior15\n",
      "      mean      std        5%       25%       50%       75%       95%\n",
      "0 -0.00006  0.10358 -0.172772 -0.068702 -0.004321  0.067474  0.172731 \n",
      "\n",
      "Site: w_prior16\n",
      "       mean       std        5%       25%       50%       75%       95%\n",
      "0  0.017214  0.107422 -0.155391 -0.057614  0.017661  0.092575  0.188101 \n",
      "\n",
      "Site: w_prior17\n",
      "       mean       std       5%       25%       50%       75%       95%\n",
      "0 -0.023464  0.105185 -0.20148 -0.092081 -0.018354  0.047331  0.145962 \n",
      "\n",
      "Site: w_prior18\n",
      "       mean       std        5%       25%       50%      75%       95%\n",
      "0  0.013691  0.110331 -0.164369 -0.066288  0.015206  0.09344  0.191056 \n",
      "\n",
      "Site: w_prior19\n",
      "       mean      std       5%      25%       50%       75%       95%\n",
      "0 -0.343421  0.10801 -0.52757 -0.41611 -0.341309 -0.275764 -0.162203 \n",
      "\n",
      "Site: b_prior\n",
      "       mean      std        5%       25%      50%       75%       95%\n",
      "0 -0.015998  0.18229 -0.310527 -0.145191 -0.01438  0.103397  0.285827 \n",
      "\n",
      "Site: sigma\n",
      "       mean      std        5%       25%       50%      75%       95%\n",
      "0  1.250851  0.06226  1.151849  1.208531  1.248113  1.29058  1.355928 \n",
      "\n"
     ]
    }
   ],
   "source": [
    "for site, values in summary(svi_samples).items():\n",
    "    print(\"Site: {}\".format(site))\n",
    "    print(values, \"\\n\")"
   ]
  },
  {
   "cell_type": "code",
   "execution_count": 150,
   "metadata": {},
   "outputs": [],
   "source": [
    "means = summary(svi_samples)"
   ]
  },
  {
   "cell_type": "code",
   "execution_count": 169,
   "metadata": {
    "scrolled": true
   },
   "outputs": [],
   "source": [
    "post_means = []\n",
    "for site in means:\n",
    "    if site != 'sigma' and site != 'b_prior':\n",
    "        post_means.append(means[site]['mean'].values)"
   ]
  },
  {
   "cell_type": "code",
   "execution_count": 194,
   "metadata": {},
   "outputs": [],
   "source": [
    "a = np.array(post_means)\n",
    "a.flatten()\n",
    "a = torch.tensor(a)\n",
    "a = a.type(torch.FloatTensor)\n",
    "sigma = torch.tensor(means['sigma']['mean'].values).type(torch.FloatTensor)\n",
    "bias = torch.tensor(means['b_prior']['mean'].values).type(torch.FloatTensor)"
   ]
  },
  {
   "cell_type": "code",
   "execution_count": 200,
   "metadata": {},
   "outputs": [],
   "source": [
    "def get_pred(bias, weights, scale, x_test):\n",
    "    preds = bias + torch.mm(x_test, weights)\n",
    "    return preds"
   ]
  },
  {
   "cell_type": "code",
   "execution_count": 201,
   "metadata": {},
   "outputs": [],
   "source": [
    "pr = get_pred(bias, a, sigma, X_ts)"
   ]
  }
 ],
 "metadata": {
  "accelerator": "GPU",
  "colab": {
   "collapsed_sections": [],
   "name": "Copy of Welcome To Colaboratory",
   "provenance": []
  },
  "kernelspec": {
   "display_name": "Python 3",
   "language": "python",
   "name": "python3"
  },
  "language_info": {
   "codemirror_mode": {
    "name": "ipython",
    "version": 3
   },
   "file_extension": ".py",
   "mimetype": "text/x-python",
   "name": "python",
   "nbconvert_exporter": "python",
   "pygments_lexer": "ipython3",
   "version": "3.6.8"
  }
 },
 "nbformat": 4,
 "nbformat_minor": 1
}

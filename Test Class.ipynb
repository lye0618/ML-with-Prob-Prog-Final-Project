{
 "cells": [
  {
   "cell_type": "code",
   "execution_count": 1,
   "metadata": {},
   "outputs": [],
   "source": [
    "from models import GMM"
   ]
  },
  {
   "cell_type": "code",
   "execution_count": 2,
   "metadata": {},
   "outputs": [],
   "source": [
    "%load_ext autoreload\n",
    "%autoreload 2"
   ]
  },
  {
   "cell_type": "markdown",
   "metadata": {},
   "source": [
    "### SVI"
   ]
  },
  {
   "cell_type": "code",
   "execution_count": 3,
   "metadata": {
    "scrolled": true
   },
   "outputs": [
    {
     "name": "stdout",
     "output_type": "stream",
     "text": [
      "Data loaded from /mnt/d/mlpp/data/prices-split-adjusted.csv\n",
      "Initializing object for inference method svi\n",
      "locs tensor([0.0002, 0.0003, 0.0002, 0.0006, 0.0004, 0.0004, 0.0001, 0.0005, 0.0007,\n",
      "        0.0004]) torch.Size([10])\n",
      "Determining best seed for initialization\n",
      "locs tensor([ 0.0009,  0.0148,  0.0026,  0.0058,  0.0178, -0.0030,  0.0065,  0.0085,\n",
      "         0.0047, -0.0246], requires_grad=True) torch.Size([10])\n",
      "locs tensor([ 0.0009,  0.0148,  0.0026,  0.0058,  0.0178, -0.0030,  0.0065,  0.0085,\n",
      "         0.0047, -0.0246], grad_fn=<ExpandBackward>) torch.Size([10])\n",
      "locs tensor([ 0.0125,  0.0110, -0.0041, -0.0004,  0.0032, -0.0113,  0.0065, -0.0092,\n",
      "        -0.0136,  0.0043], grad_fn=<ExpandBackward>) torch.Size([10])\n",
      "locs tensor([-0.0132, -0.0127, -0.0077,  0.0132,  0.0028,  0.0172,  0.0067, -0.0080,\n",
      "         0.0040, -0.0169], grad_fn=<ExpandBackward>) torch.Size([10])\n",
      "locs tensor([ 0.0061, -0.0032, -0.0115,  0.0068,  0.0052,  0.0073, -0.0049,  0.0063,\n",
      "        -0.0006,  0.0123], grad_fn=<ExpandBackward>) torch.Size([10])\n",
      "locs tensor([ 0.0229, -0.0039,  0.0041,  0.0023, -0.0051, -0.0078, -0.0149, -0.0013,\n",
      "         0.0097,  0.0103], grad_fn=<ExpandBackward>) torch.Size([10])\n",
      "locs tensor([ 0.0013,  0.0225,  0.0282,  0.0089, -0.0035,  0.0147,  0.0056,  0.0120,\n",
      "        -0.0144,  0.0115], grad_fn=<ExpandBackward>) torch.Size([10])\n",
      "locs tensor([ 0.0016,  0.0000, -0.0049, -0.0225, -0.0020, -0.0195, -0.0334,  0.0087,\n",
      "        -0.0103, -0.0047], grad_fn=<ExpandBackward>) torch.Size([10])\n",
      "locs tensor([-0.0066, -0.0061, -0.0012, -0.0026, -0.0216,  0.0037,  0.0306,  0.0060,\n",
      "        -0.0031,  0.0059], grad_fn=<ExpandBackward>) torch.Size([10])\n",
      "locs tensor([-0.0187,  0.0119,  0.0026, -0.0123, -0.0037, -0.0044, -0.0078,  0.0042,\n",
      "         0.0004, -0.0054], grad_fn=<ExpandBackward>) torch.Size([10])\n",
      "locs tensor([ 0.0263,  0.0087, -0.0426,  0.0102, -0.0155,  0.0024, -0.0043,  0.0176,\n",
      "         0.0163, -0.0055], grad_fn=<ExpandBackward>) torch.Size([10])\n",
      "locs tensor([-0.0137, -0.0014,  0.0122, -0.0017, -0.0008,  0.0075, -0.0006, -0.0129,\n",
      "        -0.0284, -0.0068], grad_fn=<ExpandBackward>) torch.Size([10])\n",
      "locs tensor([-0.0059,  0.0211,  0.0267, -0.0009,  0.0274,  0.0205, -0.0167,  0.0035,\n",
      "         0.0262,  0.0066], grad_fn=<ExpandBackward>) torch.Size([10])\n",
      "locs tensor([-0.0154,  0.0132,  0.0308, -0.0018, -0.0015,  0.0008, -0.0014, -0.0051,\n",
      "        -0.0157, -0.0095], grad_fn=<ExpandBackward>) torch.Size([10])\n",
      "locs tensor([-0.0004,  0.0031,  0.0013, -0.0006,  0.0012, -0.0050, -0.0091, -0.0131,\n",
      "         0.0071,  0.0062], grad_fn=<ExpandBackward>) torch.Size([10])\n",
      "locs tensor([-0.0037, -0.0075, -0.0060,  0.0061, -0.0236,  0.0003,  0.0082, -0.0276,\n",
      "         0.0322, -0.0060], grad_fn=<ExpandBackward>) torch.Size([10])\n",
      "locs tensor([-0.0122, -0.0019, -0.0182, -0.0048,  0.0093,  0.0106, -0.0110,  0.0000,\n",
      "         0.0089,  0.0010], grad_fn=<ExpandBackward>) torch.Size([10])\n",
      "locs tensor([-0.0024,  0.0009, -0.0005,  0.0156,  0.0142,  0.0102,  0.0045,  0.0186,\n",
      "        -0.0103, -0.0106], grad_fn=<ExpandBackward>) torch.Size([10])\n",
      "locs tensor([-0.0159,  0.0105, -0.0383, -0.0065,  0.0047, -0.0054, -0.0011,  0.0231,\n",
      "        -0.0040,  0.0002], grad_fn=<ExpandBackward>) torch.Size([10])\n",
      "locs tensor([-0.0062,  0.0065,  0.0109,  0.0107,  0.0029, -0.0086, -0.0190,  0.0183,\n",
      "        -0.0125, -0.0051], grad_fn=<ExpandBackward>) torch.Size([10])\n",
      "locs tensor([-0.0021, -0.0001, -0.0122,  0.0068, -0.0159, -0.0147, -0.0111,  0.0192,\n",
      "        -0.0077, -0.0022], grad_fn=<ExpandBackward>) torch.Size([10])\n",
      "locs tensor([-0.0039, -0.0364, -0.0134, -0.0042,  0.0145, -0.0050,  0.0014, -0.0019,\n",
      "         0.0105, -0.0125], grad_fn=<ExpandBackward>) torch.Size([10])\n",
      "locs tensor([ 0.0099,  0.0046, -0.0036, -0.0035,  0.0003,  0.0015, -0.0082,  0.0020,\n",
      "         0.0056, -0.0088], grad_fn=<ExpandBackward>) torch.Size([10])\n",
      "locs tensor([ 0.0035, -0.0179, -0.0058,  0.0035,  0.0058, -0.0087,  0.0073,  0.0002,\n",
      "         0.0017,  0.0199], grad_fn=<ExpandBackward>) torch.Size([10])\n",
      "locs tensor([-0.0030,  0.0073, -0.0022,  0.0154,  0.0112,  0.0089,  0.0028,  0.0181,\n",
      "         0.0029,  0.0059], grad_fn=<ExpandBackward>) torch.Size([10])\n",
      "locs tensor([ 0.0038,  0.0296,  0.0054,  0.0053,  0.0018,  0.0049, -0.0104, -0.0031,\n",
      "         0.0078, -0.0033], grad_fn=<ExpandBackward>) torch.Size([10])\n",
      "locs tensor([ 0.0046,  0.0014, -0.0192,  0.0073, -0.0015,  0.0175,  0.0107, -0.0268,\n",
      "         0.0035, -0.0130], grad_fn=<ExpandBackward>) torch.Size([10])\n",
      "locs tensor([-0.0199,  0.0025, -0.0098,  0.0107, -0.0376,  0.0153, -0.0025,  0.0088,\n",
      "        -0.0216,  0.0002], grad_fn=<ExpandBackward>) torch.Size([10])\n",
      "locs tensor([ 0.0205, -0.0159, -0.0194, -0.0100,  0.0304,  0.0083, -0.0164,  0.0011,\n",
      "        -0.0115,  0.0214], grad_fn=<ExpandBackward>) torch.Size([10])\n",
      "locs tensor([ 0.0288, -0.0059, -0.0035,  0.0080,  0.0045, -0.0127,  0.0035,  0.0099,\n",
      "         0.0007,  0.0005], grad_fn=<ExpandBackward>) torch.Size([10])\n",
      "locs tensor([-0.0017, -0.0067,  0.0000, -0.0179,  0.0143, -0.0057, -0.0007,  0.0003,\n",
      "        -0.0273,  0.0018], grad_fn=<ExpandBackward>) torch.Size([10])\n",
      "locs tensor([ 0.0141, -0.0022, -0.0135,  0.0170, -0.0043,  0.0279, -0.0036, -0.0083,\n",
      "         0.0067,  0.0021], grad_fn=<ExpandBackward>) torch.Size([10])\n",
      "locs tensor([ 0.0003, -0.0091, -0.0030, -0.0111, -0.0034,  0.0047,  0.0063,  0.0031,\n",
      "        -0.0124,  0.0227], grad_fn=<ExpandBackward>) torch.Size([10])\n",
      "locs tensor([-0.0018, -0.0158,  0.0071,  0.0061,  0.0058, -0.0272,  0.0137, -0.0319,\n",
      "         0.0031, -0.0009], grad_fn=<ExpandBackward>) torch.Size([10])\n",
      "locs tensor([ 0.0044, -0.0168, -0.0014,  0.0002,  0.0114, -0.0032,  0.0393, -0.0082,\n",
      "        -0.0018,  0.0065], grad_fn=<ExpandBackward>) torch.Size([10])\n",
      "locs tensor([ 0.0152,  0.0088,  0.0019,  0.0000, -0.0099, -0.0145, -0.0014,  0.0033,\n",
      "         0.0026, -0.0132], grad_fn=<ExpandBackward>) torch.Size([10])\n",
      "locs tensor([ 0.0066,  0.0092, -0.0054,  0.0164, -0.0107,  0.0095,  0.0067, -0.0019,\n",
      "         0.0265, -0.0021], grad_fn=<ExpandBackward>) torch.Size([10])\n",
      "locs tensor([ 0.0083, -0.0033, -0.0187, -0.0025, -0.0215,  0.0048, -0.0017,  0.0193,\n",
      "         0.0104,  0.0015], grad_fn=<ExpandBackward>) torch.Size([10])\n",
      "locs tensor([-0.0294,  0.0016, -0.0113,  0.0028,  0.0053,  0.0019, -0.0026,  0.0184,\n",
      "        -0.0066, -0.0098], grad_fn=<ExpandBackward>) torch.Size([10])\n",
      "locs tensor([ 0.0774,  0.0004,  0.0020, -0.0089, -0.0010, -0.0019,  0.0029, -0.0046,\n",
      "        -0.0086,  0.0038], grad_fn=<ExpandBackward>) torch.Size([10])\n",
      "locs tensor([ 0.0000,  0.0128,  0.0132,  0.0044, -0.0068, -0.0209, -0.0012,  0.0051,\n",
      "        -0.0020,  0.0081], grad_fn=<ExpandBackward>) torch.Size([10])\n",
      "locs tensor([ 0.0056,  0.0339,  0.0006,  0.0082,  0.0110,  0.0071, -0.0502, -0.0028,\n",
      "        -0.0033,  0.0040], grad_fn=<ExpandBackward>) torch.Size([10])\n",
      "locs tensor([-0.0078, -0.0059,  0.0006,  0.0044,  0.0248, -0.0195,  0.0100,  0.0007,\n",
      "        -0.0012,  0.0032], grad_fn=<ExpandBackward>) torch.Size([10])\n",
      "locs tensor([-0.0074,  0.0227,  0.0094, -0.0239,  0.0039, -0.0100,  0.0066,  0.0161,\n",
      "        -0.0016, -0.0044], grad_fn=<ExpandBackward>) torch.Size([10])\n",
      "locs tensor([ 0.0008,  0.0170, -0.0200, -0.0149,  0.0076,  0.0236,  0.0141, -0.0007,\n",
      "         0.0025,  0.0108], grad_fn=<ExpandBackward>) torch.Size([10])\n",
      "locs tensor([-0.0150,  0.0055,  0.0107, -0.0086,  0.0362,  0.0028,  0.0279, -0.0372,\n",
      "         0.0040,  0.0104], grad_fn=<ExpandBackward>) torch.Size([10])\n",
      "locs tensor([-0.0070,  0.0028,  0.0111,  0.0013, -0.0130, -0.0157, -0.0027,  0.0302,\n",
      "         0.0282,  0.0019], grad_fn=<ExpandBackward>) torch.Size([10])\n",
      "locs tensor([ 0.0326,  0.0011,  0.0066, -0.0092,  0.0123,  0.0005,  0.0177,  0.0079,\n",
      "         0.0128, -0.0016], grad_fn=<ExpandBackward>) torch.Size([10])\n",
      "locs tensor([-0.0043,  0.0043,  0.0030, -0.0104,  0.0035,  0.0115, -0.0011, -0.0141,\n",
      "         0.0011,  0.0192], grad_fn=<ExpandBackward>) torch.Size([10])\n",
      "locs tensor([-0.0069, -0.0016,  0.0243,  0.0125,  0.0187,  0.0133,  0.0148, -0.0001,\n",
      "         0.0044, -0.0002], grad_fn=<ExpandBackward>) torch.Size([10])\n",
      "locs tensor([ 0.0030, -0.0158, -0.0108,  0.0088, -0.0070, -0.0278,  0.0137,  0.0062,\n",
      "        -0.0067, -0.0054], grad_fn=<ExpandBackward>) torch.Size([10])\n",
      "locs tensor([-0.0124,  0.0032,  0.0035,  0.0044, -0.0006,  0.0064,  0.0118, -0.0034,\n",
      "        -0.0048, -0.0038], grad_fn=<ExpandBackward>) torch.Size([10])\n"
     ]
    },
    {
     "name": "stdout",
     "output_type": "stream",
     "text": [
      "locs tensor([-0.0008, -0.0012,  0.0090,  0.0023, -0.0081, -0.0923, -0.0004, -0.0024,\n",
      "         0.0016, -0.0256], grad_fn=<ExpandBackward>) torch.Size([10])\n",
      "locs tensor([-0.0057,  0.0206,  0.0092,  0.0048,  0.0091,  0.0000,  0.0074,  0.0332,\n",
      "         0.0063, -0.0366], grad_fn=<ExpandBackward>) torch.Size([10])\n",
      "locs tensor([-0.0061, -0.0043, -0.0105,  0.0053,  0.0061,  0.0156,  0.0034,  0.0067,\n",
      "         0.0044,  0.0118], grad_fn=<ExpandBackward>) torch.Size([10])\n",
      "locs tensor([-0.0040,  0.0222,  0.0086,  0.0006,  0.0050,  0.0103,  0.0179,  0.0105,\n",
      "        -0.0125, -0.0108], grad_fn=<ExpandBackward>) torch.Size([10])\n",
      "locs tensor([ 0.0016, -0.0022,  0.0408, -0.0091,  0.0059,  0.0117,  0.0002,  0.0019,\n",
      "        -0.0027, -0.0070], grad_fn=<ExpandBackward>) torch.Size([10])\n",
      "locs tensor([ 0.0071, -0.0026, -0.0033,  0.0027,  0.0063,  0.0000,  0.0210,  0.0022,\n",
      "        -0.0011, -0.0089], grad_fn=<ExpandBackward>) torch.Size([10])\n",
      "locs tensor([ 0.0098,  0.0029,  0.0109, -0.0091,  0.0278,  0.0221, -0.0075, -0.0075,\n",
      "        -0.0382,  0.0017], grad_fn=<ExpandBackward>) torch.Size([10])\n",
      "locs tensor([ 0.0109,  0.0181,  0.0070, -0.0326,  0.0275,  0.0030, -0.0001, -0.0054,\n",
      "        -0.0055,  0.0042], grad_fn=<ExpandBackward>) torch.Size([10])\n",
      "locs tensor([ 0.0029, -0.0057,  0.0018,  0.0029,  0.0067,  0.0180,  0.0322,  0.0045,\n",
      "        -0.0023,  0.0165], grad_fn=<ExpandBackward>) torch.Size([10])\n",
      "locs tensor([ 0.0068, -0.0019,  0.0097, -0.0026, -0.0109,  0.0051,  0.0326,  0.0016,\n",
      "         0.0063, -0.0029], grad_fn=<ExpandBackward>) torch.Size([10])\n",
      "locs tensor([ 0.0135,  0.0100, -0.0021, -0.0135,  0.0050, -0.0038, -0.0008, -0.0015,\n",
      "         0.0325,  0.0137], grad_fn=<ExpandBackward>) torch.Size([10])\n",
      "locs tensor([-0.0128, -0.0042,  0.0138,  0.0042,  0.0000, -0.0064, -0.0017, -0.0036,\n",
      "         0.0206,  0.0080], grad_fn=<ExpandBackward>) torch.Size([10])\n",
      "locs tensor([-0.0021, -0.0092, -0.0013,  0.0086,  0.0026,  0.0035,  0.0141, -0.0184,\n",
      "         0.0076, -0.0057], grad_fn=<ExpandBackward>) torch.Size([10])\n",
      "locs tensor([-0.0074,  0.0098, -0.0023, -0.0042,  0.0004, -0.0302,  0.0048, -0.0096,\n",
      "         0.0060, -0.0005], grad_fn=<ExpandBackward>) torch.Size([10])\n",
      "locs tensor([-0.0097,  0.0015,  0.0047,  0.0109,  0.0046,  0.0069, -0.0012, -0.0264,\n",
      "        -0.0051,  0.0066], grad_fn=<ExpandBackward>) torch.Size([10])\n",
      "locs tensor([ 0.0098,  0.0028, -0.0379,  0.0179,  0.0164, -0.0157, -0.0032,  0.0089,\n",
      "         0.0418,  0.0048], grad_fn=<ExpandBackward>) torch.Size([10])\n",
      "locs tensor([ 0.0159,  0.0003,  0.0101, -0.0133,  0.0052,  0.0012,  0.0216,  0.0203,\n",
      "        -0.0118,  0.0251], grad_fn=<ExpandBackward>) torch.Size([10])\n",
      "locs tensor([ 0.0000,  0.0013, -0.0291,  0.0185,  0.0213, -0.0064, -0.0138, -0.0226,\n",
      "        -0.0204,  0.0000], grad_fn=<ExpandBackward>) torch.Size([10])\n",
      "locs tensor([-0.0306, -0.0023, -0.0249,  0.0038, -0.0040, -0.0114,  0.0009,  0.0006,\n",
      "         0.0137, -0.0013], grad_fn=<ExpandBackward>) torch.Size([10])\n",
      "locs tensor([ 0.0221, -0.0075, -0.0115,  0.0086,  0.0090, -0.0146, -0.0015, -0.0130,\n",
      "         0.0068, -0.0034], grad_fn=<ExpandBackward>) torch.Size([10])\n",
      "locs tensor([-0.0160, -0.0040, -0.0102,  0.0156,  0.0116, -0.0131, -0.0154,  0.0229,\n",
      "         0.0143, -0.0607], grad_fn=<ExpandBackward>) torch.Size([10])\n",
      "locs tensor([-0.0246,  0.0065,  0.0033, -0.0139,  0.0328,  0.0009, -0.0078,  0.0285,\n",
      "         0.0009,  0.0029], grad_fn=<ExpandBackward>) torch.Size([10])\n",
      "locs tensor([ 0.0295,  0.0008,  0.0041,  0.0043,  0.0007, -0.0015, -0.0131, -0.0069,\n",
      "        -0.0304,  0.0081], grad_fn=<ExpandBackward>) torch.Size([10])\n",
      "locs tensor([ 0.0245,  0.0196, -0.0142,  0.0090, -0.0205,  0.0029, -0.0167, -0.0100,\n",
      "         0.0199, -0.0459], grad_fn=<ExpandBackward>) torch.Size([10])\n",
      "locs tensor([ 0.0087, -0.0009, -0.0018,  0.0078, -0.0042, -0.0029, -0.0146,  0.0039,\n",
      "         0.0207, -0.0025], grad_fn=<ExpandBackward>) torch.Size([10])\n",
      "locs tensor([ 0.0109,  0.0062, -0.0028, -0.0068, -0.0131, -0.0068, -0.0013,  0.0074,\n",
      "         0.0038,  0.0123], grad_fn=<ExpandBackward>) torch.Size([10])\n",
      "locs tensor([ 0.0084,  0.0029,  0.0141, -0.0164, -0.0107,  0.0032, -0.0026,  0.0005,\n",
      "        -0.0067, -0.0044], grad_fn=<ExpandBackward>) torch.Size([10])\n",
      "locs tensor([ 0.0281,  0.0016, -0.0202,  0.0025, -0.0057,  0.0000, -0.0035,  0.0017,\n",
      "        -0.0085, -0.0060], grad_fn=<ExpandBackward>) torch.Size([10])\n",
      "locs tensor([ 0.0529,  0.0293, -0.0013, -0.0104, -0.0131,  0.0186, -0.0017,  0.0040,\n",
      "        -0.0120, -0.0014], grad_fn=<ExpandBackward>) torch.Size([10])\n",
      "locs tensor([-0.0154, -0.0091, -0.0018, -0.0045, -0.0082,  0.0004, -0.0025, -0.0097,\n",
      "         0.0012,  0.0016], grad_fn=<ExpandBackward>) torch.Size([10])\n",
      "locs tensor([ 0.0050, -0.0249, -0.0060, -0.0050,  0.0039,  0.0142, -0.0046,  0.0119,\n",
      "         0.0029, -0.0012], grad_fn=<ExpandBackward>) torch.Size([10])\n",
      "locs tensor([ 0.0016,  0.0354,  0.0013, -0.0020, -0.0116,  0.0003,  0.0059, -0.0949,\n",
      "        -0.0001,  0.0087], grad_fn=<ExpandBackward>) torch.Size([10])\n",
      "locs tensor([ 0.0393,  0.0091,  0.0043, -0.0031, -0.0039,  0.0016,  0.0128, -0.0024,\n",
      "        -0.0077,  0.0027], grad_fn=<ExpandBackward>) torch.Size([10])\n",
      "locs tensor([ 0.0205,  0.0131, -0.0229,  0.0139,  0.0026,  0.0042,  0.0022,  0.0257,\n",
      "         0.0031,  0.0037], grad_fn=<ExpandBackward>) torch.Size([10])\n",
      "locs tensor([ 0.0016, -0.0081, -0.0214, -0.0109, -0.0015,  0.0021, -0.0032, -0.0052,\n",
      "        -0.0229,  0.0072], grad_fn=<ExpandBackward>) torch.Size([10])\n",
      "locs tensor([-0.0060,  0.0253,  0.0086, -0.0078, -0.0056, -0.0105,  0.0022,  0.0180,\n",
      "         0.0056, -0.0012], grad_fn=<ExpandBackward>) torch.Size([10])\n",
      "locs tensor([ 0.0000, -0.0165, -0.0009,  0.0136,  0.0264,  0.0119,  0.0074,  0.0317,\n",
      "         0.0107,  0.0017], grad_fn=<ExpandBackward>) torch.Size([10])\n",
      "locs tensor([ 0.0006,  0.0070,  0.0000, -0.0046,  0.0049, -0.0006, -0.0044, -0.0019,\n",
      "        -0.0140,  0.0043], grad_fn=<ExpandBackward>) torch.Size([10])\n",
      "locs tensor([ 0.0215, -0.0050, -0.0003,  0.0017, -0.0059, -0.0007,  0.0083,  0.0116,\n",
      "        -0.0071,  0.0016], grad_fn=<ExpandBackward>) torch.Size([10])\n",
      "locs tensor([ 0.0012, -0.0047,  0.0171,  0.0123, -0.0113, -0.0057,  0.0121,  0.0112,\n",
      "         0.0143,  0.0103], grad_fn=<ExpandBackward>) torch.Size([10])\n",
      "locs tensor([ 0.0074,  0.0143, -0.0095,  0.0012, -0.0130, -0.0063, -0.0064,  0.0033,\n",
      "         0.0234,  0.0034], grad_fn=<ExpandBackward>) torch.Size([10])\n",
      "locs tensor([ 0.0026,  0.0065, -0.0130,  0.0146,  0.0013,  0.0023,  0.0106, -0.0099,\n",
      "         0.0076, -0.0036], grad_fn=<ExpandBackward>) torch.Size([10])\n",
      "locs tensor([-0.0024, -0.0003, -0.0187, -0.0018, -0.0017, -0.0078, -0.0071,  0.0053,\n",
      "         0.0015, -0.0019], grad_fn=<ExpandBackward>) torch.Size([10])\n",
      "locs tensor([-0.0077,  0.0070, -0.0004,  0.0093, -0.0134, -0.0031, -0.0254,  0.0061,\n",
      "         0.0136,  0.0049], grad_fn=<ExpandBackward>) torch.Size([10])\n",
      "locs tensor([ 0.0079,  0.0169,  0.0021,  0.0101,  0.0062, -0.0003, -0.0240, -0.0015,\n",
      "         0.0015, -0.0419], grad_fn=<ExpandBackward>) torch.Size([10])\n",
      "locs tensor([ 0.0093,  0.0050,  0.0093,  0.0107, -0.0120, -0.0081,  0.0117,  0.0099,\n",
      "         0.0067, -0.0062], grad_fn=<ExpandBackward>) torch.Size([10])\n",
      "locs tensor([ 0.0035, -0.0074,  0.0108, -0.0090, -0.0276,  0.0329, -0.0068,  0.0120,\n",
      "         0.0159, -0.0060], grad_fn=<ExpandBackward>) torch.Size([10])\n",
      "locs tensor([-0.0034,  0.0044,  0.0124, -0.0159,  0.0017,  0.0178, -0.0034,  0.0538,\n",
      "        -0.0167, -0.0005], grad_fn=<ExpandBackward>) torch.Size([10])\n",
      "locs tensor([ 1.0347e-02,  2.2093e-02,  9.9453e-05,  0.0000e+00,  2.3174e-02,\n",
      "        -1.4898e-02,  2.6516e-02,  2.3419e-03,  1.7677e-02,  4.1918e-02],\n",
      "       grad_fn=<ExpandBackward>) torch.Size([10])\n",
      "locs tensor([-0.0078, -0.0059,  0.0006,  0.0044,  0.0248, -0.0195,  0.0100,  0.0007,\n",
      "        -0.0012,  0.0032], grad_fn=<ExpandBackward>) torch.Size([10])\n",
      "Best seed determined after 100 random initializations:\n",
      "seed = 41, initial_loss = -2354894.0\n",
      "Running SVI iterations\n",
      "locs tensor([-0.0078, -0.0059,  0.0006,  0.0044,  0.0248, -0.0195,  0.0100,  0.0007,\n",
      "        -0.0012,  0.0032], grad_fn=<ExpandBackward>) torch.Size([10])\n",
      "\n",
      "locs tensor([ 0.0922,  0.0941,  0.1006, -0.0956, -0.0752, -0.1195, -0.0900,  0.1007,\n",
      "         0.0988, -0.0968], grad_fn=<ExpandBackward>) torch.Size([10])\n"
     ]
    },
    {
     "name": "stdout",
     "output_type": "stream",
     "text": [
      ".locs tensor([ 0.0150,  0.0182,  0.0231, -0.0414,  0.0032, -0.0623, -0.0651,  0.0229,\n",
      "         0.0270, -0.0344], grad_fn=<ExpandBackward>) torch.Size([10])\n",
      ".locs tensor([-0.0497, -0.0541, -0.0644,  0.0394,  0.0579,  0.0088, -0.0145, -0.0645,\n",
      "        -0.0600,  0.0463], grad_fn=<ExpandBackward>) torch.Size([10])\n",
      ".locs tensor([-0.0964, -0.1044, -0.1141,  0.0259,  0.0994, -0.0399,  0.0594, -0.1144,\n",
      "        -0.1048,  0.0744], grad_fn=<ExpandBackward>) torch.Size([10])\n",
      ".locs tensor([-0.1311, -0.1391, -0.1290, -0.0407,  0.1316,  0.0072,  0.1071, -0.1297,\n",
      "        -0.1148,  0.0821], grad_fn=<ExpandBackward>) torch.Size([10])\n",
      ".locs tensor([-0.1563, -0.1605, -0.1170, -0.0820,  0.1568,  0.0144,  0.1340, -0.1182,\n",
      "        -0.0986,  0.0691], grad_fn=<ExpandBackward>) torch.Size([10])\n",
      ".locs tensor([-0.1734, -0.1703, -0.0874, -0.1106,  0.1763, -0.0362,  0.1422, -0.0891,\n",
      "        -0.0661,  0.0428], grad_fn=<ExpandBackward>) torch.Size([10])\n",
      ".locs tensor([-0.1838, -0.1705, -0.0487, -0.1311,  0.1914, -0.0148,  0.1346, -0.0506,\n",
      "        -0.0230, -0.0271], grad_fn=<ExpandBackward>) torch.Size([10])\n",
      ".locs tensor([-0.1884, -0.1626, -0.0013, -0.1444,  0.2026,  0.0285,  0.1136, -0.0047,\n",
      "         0.0533, -0.0640], grad_fn=<ExpandBackward>) torch.Size([10])\n",
      ".locs tensor([-0.1881, -0.1485,  0.0308, -0.1516,  0.2108,  0.0529,  0.0853,  0.0422,\n",
      "         0.1051, -0.0895], grad_fn=<ExpandBackward>) torch.Size([10])\n",
      ".locs tensor([-0.1838, -0.1297, -0.0357, -0.1534,  0.2164,  0.0645,  0.0535, -0.0046,\n",
      "         0.1359, -0.0992], grad_fn=<ExpandBackward>) torch.Size([10])\n",
      ".locs tensor([-0.1760, -0.1079, -0.0787, -0.1507,  0.2198,  0.0706,  0.0048, -0.0033,\n",
      "         0.1461, -0.1030], grad_fn=<ExpandBackward>) torch.Size([10])\n",
      ".locs tensor([-0.1656, -0.0844, -0.1111, -0.1442,  0.2213,  0.0731, -0.0495,  0.0038,\n",
      "         0.1386, -0.1018], grad_fn=<ExpandBackward>) torch.Size([10])\n",
      ".locs tensor([-0.1531, -0.0604, -0.1349, -0.1347,  0.2212,  0.0722, -0.0643, -0.0070,\n",
      "         0.1174, -0.0964], grad_fn=<ExpandBackward>) torch.Size([10])\n",
      ".locs tensor([-0.1391, -0.0350, -0.1508, -0.1229,  0.2198,  0.0675, -0.0648,  0.0306,\n",
      "         0.0873, -0.0877], grad_fn=<ExpandBackward>) torch.Size([10])\n",
      ".locs tensor([-0.1240,  0.0222, -0.1598, -0.1094,  0.2173,  0.0605, -0.0493, -0.0161,\n",
      "         0.0528, -0.0763], grad_fn=<ExpandBackward>) torch.Size([10])\n",
      ".locs tensor([-0.1085,  0.0503, -0.1627, -0.0949,  0.2138,  0.0503, -0.0191, -0.0206,\n",
      "         0.0097, -0.0630], grad_fn=<ExpandBackward>) torch.Size([10])\n",
      ".locs tensor([-0.0928,  0.0673, -0.1604, -0.0798,  0.2096,  0.0345,  0.0406, -0.0011,\n",
      "        -0.0389, -0.0481], grad_fn=<ExpandBackward>) torch.Size([10])\n",
      ".locs tensor([-0.0774,  0.0775, -0.1538, -0.0645,  0.2046,  0.0102,  0.0710,  0.0140,\n",
      "        -0.0606, -0.0289], grad_fn=<ExpandBackward>) torch.Size([10])\n",
      ".locs tensor([-0.0625,  0.0815, -0.1437, -0.0487,  0.1992, -0.0187,  0.0882,  0.0111,\n",
      "        -0.0684, -0.0042], grad_fn=<ExpandBackward>) torch.Size([10])\n",
      ".locs tensor([-0.0481,  0.0802, -0.1310, -0.0320,  0.1933, -0.0320,  0.0934, -0.0008,\n",
      "        -0.0656,  0.0194], grad_fn=<ExpandBackward>) torch.Size([10])\n",
      ".locs tensor([-0.0342,  0.0741, -0.1165, -0.0120,  0.1871, -0.0338,  0.0882, -0.0041,\n",
      "        -0.0544,  0.0313], grad_fn=<ExpandBackward>) torch.Size([10])\n",
      ".locs tensor([-0.0201,  0.0645, -0.1008,  0.0105,  0.1806, -0.0273,  0.0750,  0.0052,\n",
      "        -0.0365,  0.0328], grad_fn=<ExpandBackward>) torch.Size([10])\n",
      ".locs tensor([-0.0061,  0.0523, -0.0846,  0.0255,  0.1739, -0.0136,  0.0560,  0.0073,\n",
      "        -0.0110,  0.0274], grad_fn=<ExpandBackward>) torch.Size([10])\n",
      ".locs tensor([ 0.0060,  0.0382, -0.0682,  0.0331,  0.1670,  0.0031,  0.0326,  0.0002,\n",
      "         0.0161,  0.0170], grad_fn=<ExpandBackward>) torch.Size([10])\n",
      ".locs tensor([ 0.0151,  0.0226, -0.0518,  0.0355,  0.1601,  0.0140,  0.0034, -0.0092,\n",
      "         0.0299,  0.0035], grad_fn=<ExpandBackward>) torch.Size([10])\n",
      ".locs tensor([ 0.0209,  0.0055, -0.0356,  0.0339,  0.1532,  0.0175, -0.0234, -0.0077,\n",
      "         0.0320, -0.0089], grad_fn=<ExpandBackward>) torch.Size([10])\n",
      ".locs tensor([ 0.0238, -0.0099, -0.0195,  0.0288,  0.1462,  0.0142, -0.0345,  0.0037,\n",
      "         0.0245, -0.0158], grad_fn=<ExpandBackward>) torch.Size([10])\n",
      ".locs tensor([ 0.0244, -0.0202, -0.0034,  0.0210,  0.1393,  0.0061, -0.0346,  0.0069,\n",
      "         0.0098, -0.0173], grad_fn=<ExpandBackward>) torch.Size([10])\n",
      ".locs tensor([ 0.0232, -0.0250,  0.0101,  0.0114,  0.1324, -0.0033, -0.0262,  0.0002,\n",
      "        -0.0069, -0.0144], grad_fn=<ExpandBackward>) torch.Size([10])\n",
      ".locs tensor([ 0.0207, -0.0254,  0.0199,  0.0019,  0.1256, -0.0092, -0.0116, -0.0032,\n",
      "        -0.0169, -0.0083], grad_fn=<ExpandBackward>) torch.Size([10])\n",
      ".locs tensor([ 0.0174, -0.0223,  0.0257, -0.0056,  0.1189, -0.0098,  0.0067,  0.0021,\n",
      "        -0.0184, -0.0003], grad_fn=<ExpandBackward>) torch.Size([10])\n",
      ".locs tensor([ 0.0134, -0.0167,  0.0281, -0.0104,  0.1124, -0.0067,  0.0189,  0.0054,\n",
      "        -0.0132,  0.0067], grad_fn=<ExpandBackward>) torch.Size([10])\n",
      ".locs tensor([ 0.0089, -0.0096,  0.0273, -0.0126,  0.1060, -0.0022,  0.0213,  0.0003,\n",
      "        -0.0043,  0.0102], grad_fn=<ExpandBackward>) torch.Size([10])\n",
      ".locs tensor([ 0.0044, -0.0021,  0.0241, -0.0126,  0.0997,  0.0020,  0.0158, -0.0047,\n",
      "         0.0046,  0.0103], grad_fn=<ExpandBackward>) torch.Size([10])\n",
      ".locs tensor([ 0.0005,  0.0046,  0.0191, -0.0107,  0.0937,  0.0050,  0.0053, -0.0025,\n",
      "         0.0102,  0.0078], grad_fn=<ExpandBackward>) torch.Size([10])\n",
      ".locs tensor([-0.0029,  0.0090,  0.0128, -0.0078,  0.0878,  0.0056, -0.0057,  0.0013,\n",
      "         0.0107,  0.0036], grad_fn=<ExpandBackward>) torch.Size([10])\n",
      ".locs tensor([-0.0054,  0.0107,  0.0059, -0.0046,  0.0821,  0.0037, -0.0133,  0.0003,\n",
      "         0.0067, -0.0012], grad_fn=<ExpandBackward>) torch.Size([10])\n",
      ".locs tensor([-0.0070,  0.0102, -0.0005, -0.0013,  0.0765,  0.0009, -0.0157, -0.0011,\n",
      "         0.0008, -0.0048], grad_fn=<ExpandBackward>) torch.Size([10])\n",
      ".locs tensor([-0.0076,  0.0081, -0.0054,  0.0019,  0.0712, -0.0010, -0.0129,  0.0015,\n",
      "        -0.0037, -0.0060], grad_fn=<ExpandBackward>) torch.Size([10])\n",
      ".locs tensor([-0.0074,  0.0051, -0.0085,  0.0044,  0.0660, -0.0019, -0.0064,  0.0031,\n",
      "        -0.0056, -0.0053], grad_fn=<ExpandBackward>) torch.Size([10])\n",
      ".locs tensor([-0.0067,  0.0016, -0.0101,  0.0056,  0.0611, -0.0020,  0.0012,  0.0005,\n",
      "        -0.0049, -0.0034], grad_fn=<ExpandBackward>) torch.Size([10])\n",
      ".locs tensor([-0.0054, -0.0014, -0.0102,  0.0057,  0.0564, -0.0011,  0.0073, -0.0009,\n",
      "        -0.0022, -0.0007], grad_fn=<ExpandBackward>) torch.Size([10])\n",
      ".locs tensor([-0.0039, -0.0033, -0.0092,  0.0049,  0.0519,  0.0004,  0.0095,  0.0005,\n",
      "         0.0012,  0.0019], grad_fn=<ExpandBackward>) torch.Size([10])\n",
      ".locs tensor([-2.3590e-03, -4.3915e-03, -7.5557e-03,  3.3308e-03,  4.7649e-02,\n",
      "         1.1946e-03,  7.1376e-03, -2.2759e-05,  3.3844e-03,  3.3548e-03],\n",
      "       grad_fn=<ExpandBackward>) torch.Size([10])\n",
      ".locs tensor([-0.0009, -0.0045, -0.0055,  0.0013,  0.0437,  0.0012,  0.0020, -0.0015,\n",
      "         0.0036,  0.0035], grad_fn=<ExpandBackward>) torch.Size([10])\n",
      ".locs tensor([ 0.0004, -0.0038, -0.0031, -0.0004,  0.0399,  0.0010, -0.0028, -0.0003,\n",
      "         0.0024,  0.0027], grad_fn=<ExpandBackward>) torch.Size([10])\n",
      ".locs tensor([ 0.0014, -0.0025, -0.0008, -0.0018,  0.0364,  0.0004, -0.0057,  0.0008,\n",
      "         0.0005,  0.0014], grad_fn=<ExpandBackward>) torch.Size([10])\n",
      ".locs tensor([ 0.0021, -0.0011,  0.0011, -0.0027,  0.0332, -0.0004, -0.0064, -0.0002,\n",
      "        -0.0013, -0.0002], grad_fn=<ExpandBackward>) torch.Size([10])\n",
      ".locs tensor([ 2.4870e-03,  4.1591e-04,  2.5710e-03, -2.8712e-03,  3.0273e-02,\n",
      "        -6.7779e-04, -4.6848e-03,  1.1440e-05, -2.0832e-03, -1.2568e-03],\n",
      "       grad_fn=<ExpandBackward>) torch.Size([10])\n",
      "\n",
      "locs tensor([ 0.0026,  0.0016,  0.0035, -0.0025,  0.0276, -0.0006, -0.0016,  0.0006,\n",
      "        -0.0017, -0.0017], grad_fn=<ExpandBackward>) torch.Size([10])\n",
      ".locs tensor([ 0.0025,  0.0022,  0.0037, -0.0019,  0.0252, -0.0006,  0.0014, -0.0005,\n",
      "        -0.0009, -0.0018], grad_fn=<ExpandBackward>) torch.Size([10])\n",
      ".locs tensor([ 0.0022,  0.0023,  0.0034, -0.0011,  0.0230, -0.0004,  0.0033, -0.0008,\n",
      "         0.0002, -0.0014], grad_fn=<ExpandBackward>) torch.Size([10])\n"
     ]
    },
    {
     "name": "stdout",
     "output_type": "stream",
     "text": [
      ".locs tensor([ 1.7334e-03,  2.0113e-03,  2.7414e-03, -1.9820e-04,  2.1092e-02,\n",
      "        -6.1691e-05,  3.6058e-03, -1.5222e-04,  1.1359e-03, -6.7737e-04],\n",
      "       grad_fn=<ExpandBackward>) torch.Size([10])\n",
      ".locs tensor([ 1.2080e-03,  1.3135e-03,  1.7936e-03,  4.2473e-04,  1.9382e-02,\n",
      "        -8.4300e-05,  2.2794e-03, -7.0168e-04,  1.2772e-03, -1.2448e-04],\n",
      "       grad_fn=<ExpandBackward>) torch.Size([10])\n",
      ".locs tensor([ 6.9679e-04,  5.4363e-04,  8.2178e-04,  8.8274e-04,  1.7881e-02,\n",
      "        -7.7183e-05,  4.0383e-04, -5.1203e-04,  9.7684e-04,  3.7925e-04],\n",
      "       grad_fn=<ExpandBackward>) torch.Size([10])\n",
      ".locs tensor([ 2.4876e-04, -1.2696e-04, -3.2916e-05,  1.1554e-03,  1.6571e-02,\n",
      "        -1.0473e-05, -1.1696e-03,  2.3450e-04,  4.7256e-04,  7.5380e-04],\n",
      "       grad_fn=<ExpandBackward>) torch.Size([10])\n",
      ".locs tensor([-1.4088e-04, -6.7752e-04, -7.5145e-04,  1.1594e-03,  1.5419e-02,\n",
      "        -1.1499e-04, -2.1693e-03, -6.7845e-05, -1.5693e-04,  8.1387e-04],\n",
      "       grad_fn=<ExpandBackward>) torch.Size([10])\n",
      ".locs tensor([-4.0874e-04, -9.3550e-04, -1.1985e-03,  1.0595e-03,  1.4420e-02,\n",
      "        -6.0993e-05, -2.1598e-03,  1.6943e-04, -4.5163e-04,  7.8392e-04],\n",
      "       grad_fn=<ExpandBackward>) torch.Size([10])\n",
      ".locs tensor([-5.6355e-04, -9.3488e-04, -1.3953e-03,  8.7608e-04,  1.3549e-02,\n",
      "         6.3819e-05, -1.3979e-03,  4.6407e-04, -4.0788e-04,  6.6392e-04],\n",
      "       grad_fn=<ExpandBackward>) torch.Size([10])\n",
      ".locs tensor([-6.3781e-04, -7.8405e-04, -1.4193e-03,  5.9655e-04,  1.2780e-02,\n",
      "         7.6437e-05, -3.8507e-04, -4.0589e-06, -2.1844e-04,  4.0960e-04],\n",
      "       grad_fn=<ExpandBackward>) torch.Size([10])\n",
      ".locs tensor([-0.0006, -0.0005, -0.0012,  0.0004,  0.0121,  0.0002,  0.0007,  0.0002,\n",
      "         0.0002,  0.0002], grad_fn=<ExpandBackward>) torch.Size([10])\n",
      ".locs tensor([-5.1776e-04, -8.1166e-05, -9.5242e-04,  1.5703e-04,  1.1518e-02,\n",
      "         2.8090e-04,  1.4658e-03,  1.3364e-04,  5.3388e-04,  8.4978e-05],\n",
      "       grad_fn=<ExpandBackward>) torch.Size([10])\n",
      ".locs tensor([-3.9143e-04,  2.5441e-04, -6.2116e-04, -2.6691e-05,  1.0988e-02,\n",
      "         2.5600e-04,  1.6347e-03, -1.4113e-04,  6.8730e-04, -4.8765e-05],\n",
      "       grad_fn=<ExpandBackward>) torch.Size([10])\n",
      ".locs tensor([-2.2181e-04,  5.6590e-04, -2.3902e-04, -1.0330e-04,  1.0518e-02,\n",
      "         3.0806e-04,  1.4408e-03,  1.6556e-04,  7.5141e-04, -4.3921e-05],\n",
      "       grad_fn=<ExpandBackward>) torch.Size([10])\n",
      ".locs tensor([-5.8416e-05,  7.4285e-04,  9.2403e-05, -1.6026e-04,  1.0088e-02,\n",
      "         2.3490e-04,  8.5744e-04,  7.1759e-06,  5.8846e-04, -4.6502e-05],\n",
      "       grad_fn=<ExpandBackward>) torch.Size([10])\n",
      ".locs tensor([ 1.0785e-04,  8.3350e-04,  3.8955e-04, -1.4154e-04,  9.6998e-03,\n",
      "         2.0113e-04,  2.5241e-04,  9.1012e-05,  3.9475e-04,  2.8561e-05],\n",
      "       grad_fn=<ExpandBackward>) torch.Size([10])\n",
      ".locs tensor([ 2.6139e-04,  8.3558e-04,  6.2566e-04, -7.1669e-05,  9.3453e-03,\n",
      "         1.8764e-04, -2.1076e-04,  2.5080e-04,  2.2689e-04,  1.4179e-04],\n",
      "       grad_fn=<ExpandBackward>) torch.Size([10])\n",
      ".locs tensor([ 3.8171e-04,  7.3871e-04,  7.6830e-04, -2.3331e-07,  9.0137e-03,\n",
      "         1.1754e-04, -5.0306e-04,  7.9124e-05,  7.6222e-05,  2.1771e-04],\n",
      "       grad_fn=<ExpandBackward>) torch.Size([10])\n",
      ".locs tensor([ 4.8722e-04,  6.2762e-04,  8.6240e-04,  1.2061e-04,  8.7090e-03,\n",
      "         1.4584e-04, -4.5659e-04,  2.7873e-04,  9.0013e-05,  3.3842e-04],\n",
      "       grad_fn=<ExpandBackward>) torch.Size([10])\n",
      ".locs tensor([ 0.0006,  0.0005,  0.0009,  0.0002,  0.0084,  0.0001, -0.0003,  0.0001,\n",
      "         0.0001,  0.0004], grad_fn=<ExpandBackward>) torch.Size([10])\n",
      ".locs tensor([5.9496e-04, 3.3804e-04, 8.3520e-04, 3.0923e-04, 8.1441e-03, 1.3531e-04,\n",
      "        5.2362e-05, 1.6012e-04, 2.5073e-04, 4.3620e-04],\n",
      "       grad_fn=<ExpandBackward>) torch.Size([10])\n",
      ".locs tensor([0.0006, 0.0002, 0.0008, 0.0004, 0.0079, 0.0002, 0.0004, 0.0001, 0.0004,\n",
      "        0.0004], grad_fn=<ExpandBackward>) torch.Size([10])\n",
      ".locs tensor([6.0077e-04, 1.4613e-04, 6.5307e-04, 4.2945e-04, 7.6264e-03, 1.5640e-04,\n",
      "        6.1146e-04, 6.7603e-05, 4.4444e-04, 4.2384e-04],\n",
      "       grad_fn=<ExpandBackward>) torch.Size([10])\n",
      ".locs tensor([0.0006, 0.0001, 0.0005, 0.0005, 0.0074, 0.0002, 0.0008, 0.0002, 0.0005,\n",
      "        0.0004], grad_fn=<ExpandBackward>) torch.Size([10])\n",
      ".locs tensor([5.4106e-04, 1.1535e-04, 4.3312e-04, 4.6557e-04, 7.1378e-03, 1.9329e-04,\n",
      "        7.2196e-04, 6.6710e-05, 4.6554e-04, 3.5308e-04],\n",
      "       grad_fn=<ExpandBackward>) torch.Size([10])\n",
      ".locs tensor([0.0005, 0.0002, 0.0003, 0.0005, 0.0069, 0.0002, 0.0006, 0.0002, 0.0004,\n",
      "        0.0003], grad_fn=<ExpandBackward>) torch.Size([10])\n",
      ".locs tensor([0.0005, 0.0002, 0.0003, 0.0004, 0.0067, 0.0002, 0.0005, 0.0001, 0.0004,\n",
      "        0.0003], grad_fn=<ExpandBackward>) torch.Size([10])\n",
      ".locs tensor([0.0004, 0.0003, 0.0002, 0.0004, 0.0064, 0.0003, 0.0003, 0.0003, 0.0003,\n",
      "        0.0003], grad_fn=<ExpandBackward>) torch.Size([10])\n",
      ".locs tensor([0.0004, 0.0003, 0.0002, 0.0004, 0.0062, 0.0003, 0.0002, 0.0001, 0.0003,\n",
      "        0.0003], grad_fn=<ExpandBackward>) torch.Size([10])\n",
      ".locs tensor([0.0004, 0.0004, 0.0002, 0.0004, 0.0060, 0.0003, 0.0002, 0.0004, 0.0003,\n",
      "        0.0003], grad_fn=<ExpandBackward>) torch.Size([10])\n",
      ".locs tensor([0.0003, 0.0004, 0.0002, 0.0003, 0.0057, 0.0003, 0.0001, 0.0001, 0.0003,\n",
      "        0.0003], grad_fn=<ExpandBackward>) torch.Size([10])\n",
      ".locs tensor([0.0003, 0.0005, 0.0002, 0.0004, 0.0055, 0.0004, 0.0003, 0.0005, 0.0004,\n",
      "        0.0004], grad_fn=<ExpandBackward>) torch.Size([10])\n",
      ".locs tensor([ 2.9844e-04,  4.4824e-04,  2.0973e-04,  2.9126e-04,  5.2636e-03,\n",
      "         2.4860e-04,  2.2557e-04, -3.7444e-05,  3.3609e-04,  2.9719e-04],\n",
      "       grad_fn=<ExpandBackward>) torch.Size([10])\n",
      ".locs tensor([0.0003, 0.0005, 0.0003, 0.0004, 0.0050, 0.0004, 0.0005, 0.0007, 0.0005,\n",
      "        0.0004], grad_fn=<ExpandBackward>) torch.Size([10])\n",
      ".locs tensor([ 0.0003,  0.0004,  0.0003,  0.0003,  0.0048,  0.0002,  0.0003, -0.0004,\n",
      "         0.0003,  0.0003], grad_fn=<ExpandBackward>) torch.Size([10])\n",
      ".locs tensor([0.0004, 0.0005, 0.0004, 0.0004, 0.0046, 0.0006, 0.0007, 0.0014, 0.0006,\n",
      "        0.0006], grad_fn=<ExpandBackward>) torch.Size([10])\n",
      ".locs tensor([ 2.6645e-04,  2.2714e-04,  2.4053e-04,  1.4527e-04,  4.2981e-03,\n",
      "        -1.2266e-04,  5.6371e-05, -1.6218e-03,  3.8640e-05,  1.0216e-04],\n",
      "       grad_fn=<ExpandBackward>) torch.Size([10])\n",
      ".locs tensor([0.0005, 0.0007, 0.0006, 0.0007, 0.0041, 0.0011, 0.0012, 0.0036, 0.0010,\n",
      "        0.0009], grad_fn=<ExpandBackward>) torch.Size([10])\n",
      ".locs tensor([ 1.4586e-04, -1.7501e-04,  4.5613e-06, -2.2537e-04,  3.7874e-03,\n",
      "        -1.0428e-03, -8.9203e-04, -5.2802e-03, -7.4447e-04, -5.1228e-04],\n",
      "       grad_fn=<ExpandBackward>) torch.Size([10])\n",
      ".locs tensor([0.0007, 0.0012, 0.0011, 0.0012, 0.0037, 0.0024, 0.0025, 0.0099, 0.0021,\n",
      "        0.0018], grad_fn=<ExpandBackward>) torch.Size([10])\n",
      ".locs tensor([-0.0002, -0.0011, -0.0007, -0.0012,  0.0033, -0.0033, -0.0032, -0.0130,\n",
      "        -0.0026, -0.0021], grad_fn=<ExpandBackward>) torch.Size([10])\n",
      ".locs tensor([0.0010, 0.0018, 0.0015, 0.0019, 0.0034, 0.0040, 0.0040, 0.0129, 0.0035,\n",
      "        0.0028], grad_fn=<ExpandBackward>) torch.Size([10])\n",
      ".locs tensor([-7.0259e-05, -7.0941e-04, -4.0701e-04, -7.6783e-04,  3.0634e-03,\n",
      "        -2.0023e-03, -1.8384e-03, -7.4727e-03, -1.4955e-03, -1.2951e-03],\n",
      "       grad_fn=<ExpandBackward>) torch.Size([10])\n",
      ".locs tensor([0.0003, 0.0003, 0.0004, 0.0004, 0.0031, 0.0009, 0.0009, 0.0034, 0.0008,\n",
      "        0.0006], grad_fn=<ExpandBackward>) torch.Size([10])\n",
      ".locs tensor([0.0002, 0.0001, 0.0002, 0.0001, 0.0029, 0.0004, 0.0004, 0.0024, 0.0004,\n",
      "        0.0002], grad_fn=<ExpandBackward>) torch.Size([10])\n",
      ".locs tensor([-9.5286e-05, -5.9643e-04, -4.3997e-04, -7.3104e-04,  2.6750e-03,\n",
      "        -1.6799e-03, -1.4214e-03, -4.0987e-03, -1.1359e-03, -1.1053e-03],\n",
      "       grad_fn=<ExpandBackward>) torch.Size([10])\n",
      ".locs tensor([0.0005, 0.0009, 0.0006, 0.0008, 0.0027, 0.0019, 0.0021, 0.0073, 0.0019,\n",
      "        0.0014], grad_fn=<ExpandBackward>) torch.Size([10])\n",
      ".locs tensor([-0.0001, -0.0005, -0.0005, -0.0007,  0.0024, -0.0019, -0.0014, -0.0053,\n",
      "        -0.0011, -0.0011], grad_fn=<ExpandBackward>) torch.Size([10])\n",
      "."
     ]
    },
    {
     "data": {
      "image/png": "[encoded data removed]",
      "text/plain": [
       "<Figure size 1000x300 with 1 Axes>"
      ]
     },
     "metadata": {},
     "output_type": "display_data"
    }
   ],
   "source": [
    "# Initialize svi\n",
    "svi = GMM(n_comp=10, infr='svi')\n",
    "\n",
    "# # Initialize guide\n",
    "svi.guide_autodelta()\n",
    "# svi.guide_autodiagnorm()\n",
    "\n",
    "# # Perform svi steps with default num of itr\n",
    "svi_losses = svi.inference()\n",
    "\n",
    "# # Plot svi convergence\n",
    "svi.plot_svi_convergence(svi_losses)"
   ]
  },
  {
   "cell_type": "code",
   "execution_count": 10,
   "metadata": {},
   "outputs": [
    {
     "name": "stdout",
     "output_type": "stream",
     "text": [
      "{'num_samples': 851264, 'num_iterations': 100, 'exec_time': 285.07669281959534}\n"
     ]
    }
   ],
   "source": [
    "svi_stats, mcmc_stats = svi.generate_stats()\n",
    "print(svi_stats)"
   ]
  },
  {
   "cell_type": "code",
   "execution_count": 4,
   "metadata": {},
   "outputs": [],
   "source": [
    "# svi estimates\n",
    "weights, locs, scale = svi.get_svi_estimates()"
   ]
  },
  {
   "cell_type": "code",
   "execution_count": 91,
   "metadata": {},
   "outputs": [
    {
     "data": {
      "text/plain": [
       "(tensor([0.0251, 0.0332, 0.0442, 0.0559, 0.0246, 0.2158, 0.0475, 0.4612, 0.0304,\n",
       "         0.0621], grad_fn=<ExpandBackward>),\n",
       " tensor([0.0004, 0.0009, 0.0005, 0.0007, 0.0024, 0.0014, 0.0018, 0.0040, 0.0017,\n",
       "         0.0012], grad_fn=<ExpandBackward>),\n",
       " tensor(0.0149, grad_fn=<ExpandBackward>))"
      ]
     },
     "execution_count": 91,
     "metadata": {},
     "output_type": "execute_result"
    }
   ],
   "source": [
    "weights, locs, scale"
   ]
  },
  {
   "cell_type": "code",
   "execution_count": 13,
   "metadata": {},
   "outputs": [],
   "source": [
    "import pyro\n",
    "import pyro.distributions as dist\n",
    "import torch"
   ]
  },
  {
   "cell_type": "code",
   "execution_count": 88,
   "metadata": {},
   "outputs": [],
   "source": [
    "# Responsibilities (p(c=k|x))\n",
    "def get_posterior_resp(data, weights, locs, scale):\n",
    "    '''\n",
    "    Formula:\n",
    "    k: cluster index\n",
    "    p(c=k|x) = w_k * N(x|mu_k, sigma_k) / sum(w_k * N(x|mu_k, sigma_k))                \n",
    "    '''\n",
    "    prob_list = []\n",
    "    distri = dist.Normal(locs, scale)\n",
    "    for d in data:\n",
    "        numerator = weights * distri.log_prob(d)\n",
    "        denom = numerator.sum()\n",
    "        probs = numerator / denom\n",
    "        prob_list.append(probs)\n",
    "    \n",
    "    final = torch.stack(prob_list)\n",
    "    return final"
   ]
  },
  {
   "cell_type": "code",
   "execution_count": 93,
   "metadata": {},
   "outputs": [
    {
     "data": {
      "text/plain": [
       "torch.Size([10])"
      ]
     },
     "execution_count": 93,
     "metadata": {},
     "output_type": "execute_result"
    }
   ],
   "source": [
    "locs.shape"
   ]
  },
  {
   "cell_type": "code",
   "execution_count": 89,
   "metadata": {
    "scrolled": true
   },
   "outputs": [],
   "source": [
    "# d = svi.tensor\n",
    "\n",
    "x = get_posterior_prob(d[:5], weights, locs, scale)"
   ]
  },
  {
   "cell_type": "code",
   "execution_count": 95,
   "metadata": {},
   "outputs": [
    {
     "data": {
      "text/plain": [
       "torch.Size([5, 10])"
      ]
     },
     "execution_count": 95,
     "metadata": {},
     "output_type": "execute_result"
    }
   ],
   "source": [
    "x.shape"
   ]
  },
  {
   "cell_type": "markdown",
   "metadata": {},
   "source": [
    "### MCMC with NUTS"
   ]
  },
  {
   "cell_type": "code",
   "execution_count": 16,
   "metadata": {
    "scrolled": true
   },
   "outputs": [
    {
     "name": "stdout",
     "output_type": "stream",
     "text": [
      "Data loaded from /mnt/d/mlpp/data/prices-split-adjusted.csv\n",
      "Initializing object for inference method mcmc\n"
     ]
    }
   ],
   "source": [
    "# Initialize mcmc\n",
    "mcmc = GMM(n_comp=10, infr='mcmc')"
   ]
  },
  {
   "cell_type": "code",
   "execution_count": 17,
   "metadata": {},
   "outputs": [
    {
     "name": "stderr",
     "output_type": "stream",
     "text": [
      "\r",
      "Warmup:   0%|          | 0/300 [00:00<?, ?it/s]"
     ]
    },
    {
     "name": "stdout",
     "output_type": "stream",
     "text": [
      "Initializing MCMC\n",
      "Initialized MCMC with NUTS kernal\n",
      "Running MCMC using NUTS with num_obs = 85126\n"
     ]
    },
    {
     "name": "stderr",
     "output_type": "stream",
     "text": [
      "sample: 100%|██████████| 300/300 [3:07:41<00:00, 52.44s/it, step size=5.29e-03, acc. prob=0.782]  \n"
     ]
    }
   ],
   "source": [
    "# Perform mcmc steps with default num of itr\n",
    "mcmc_samples = mcmc.inference()"
   ]
  },
  {
   "cell_type": "code",
   "execution_count": 20,
   "metadata": {},
   "outputs": [],
   "source": [
    "mcmc.svi = None"
   ]
  },
  {
   "cell_type": "code",
   "execution_count": 21,
   "metadata": {},
   "outputs": [],
   "source": [
    "svi_stats, mcmc_stats = mcmc.generate_stats()"
   ]
  },
  {
   "cell_type": "code",
   "execution_count": 22,
   "metadata": {},
   "outputs": [
    {
     "name": "stdout",
     "output_type": "stream",
     "text": [
      "{'num_samples': 85126, 'exec_time': 11261.25596523285, 'num_samples_generated': 250, 'warmup_steps': 50}\n"
     ]
    }
   ],
   "source": [
    "print(mcmc_stats)"
   ]
  },
  {
   "cell_type": "code",
   "execution_count": null,
   "metadata": {},
   "outputs": [],
   "source": []
  }
 ],
 "metadata": {
  "kernelspec": {
   "display_name": "Python 3",
   "language": "python",
   "name": "python3"
  },
  "language_info": {
   "codemirror_mode": {
    "name": "ipython",
    "version": 3
   },
   "file_extension": ".py",
   "mimetype": "text/x-python",
   "name": "python",
   "nbconvert_exporter": "python",
   "pygments_lexer": "ipython3",
   "version": "3.6.8"
  }
 },
 "nbformat": 4,
 "nbformat_minor": 2
}

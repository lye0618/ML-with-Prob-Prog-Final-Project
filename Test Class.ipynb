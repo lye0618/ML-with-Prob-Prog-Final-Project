{
 "cells": [
  {
   "cell_type": "code",
   "execution_count": 18,
   "metadata": {},
   "outputs": [],
   "source": [
    "from models import GMM"
   ]
  },
  {
   "cell_type": "code",
   "execution_count": 17,
   "metadata": {},
   "outputs": [
    {
     "name": "stdout",
     "output_type": "stream",
     "text": [
      "The autoreload extension is already loaded. To reload it, use:\n",
      "  %reload_ext autoreload\n"
     ]
    }
   ],
   "source": [
    "%load_ext autoreload\n",
    "%autoreload 2"
   ]
  },
  {
   "cell_type": "code",
   "execution_count": null,
   "metadata": {},
   "outputs": [
    {
     "name": "stdout",
     "output_type": "stream",
     "text": [
      "file path is /mnt/d/mlpp/data/prices-split-adjusted.csv\n",
      "Determining best seed for initialization\n",
      "Best seed determined after 100 random initializations\n",
      "seed = 41, initial_loss = -2354894.0\n",
      "Running SVI iterations\n",
      "\n",
      "......................................"
     ]
    }
   ],
   "source": [
    "# Initialize svi\n",
    "svi = GMM(n_comp=10, infr='svi')\n",
    "\n",
    "# Initialize model\n",
    "svi.model()\n",
    "\n",
    "# Initialize guide\n",
    "svi.guide_autodelta()\n",
    "\n",
    "# Perform svi steps with default num of itr\n",
    "svi_losses = svi.inference()\n",
    "\n",
    "# Plot svi convergence\n",
    "svi.plot_svi_convergence(svi_losses)"
   ]
  },
  {
   "cell_type": "code",
   "execution_count": null,
   "metadata": {},
   "outputs": [],
   "source": []
  }
 ],
 "metadata": {
  "kernelspec": {
   "display_name": "Python 3",
   "language": "python",
   "name": "python3"
  },
  "language_info": {
   "codemirror_mode": {
    "name": "ipython",
    "version": 3
   },
   "file_extension": ".py",
   "mimetype": "text/x-python",
   "name": "python",
   "nbconvert_exporter": "python",
   "pygments_lexer": "ipython3",
   "version": "3.6.8"
  }
 },
 "nbformat": 4,
 "nbformat_minor": 2
}

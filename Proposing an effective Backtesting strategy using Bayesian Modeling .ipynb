{
 "cells": [
  {
   "cell_type": "markdown",
   "metadata": {},
   "source": [
    "## Proposing an effective Backtesting strategy using Bayesian Modeling "
   ]
  },
  {
   "cell_type": "markdown",
   "metadata": {},
   "source": [
    "### By: Serena Liu, Lin Ye and Akshat Mittal "
   ]
  },
  {
   "cell_type": "markdown",
   "metadata": {},
   "source": [
    "### Introduction"
   ]
  },
  {
   "cell_type": "markdown",
   "metadata": {},
   "source": [
    "Backtesting is a key component of effective trading system development. It is accomplished by reconstructing, with historical data, trades that would have occurred in the past using rules defined by a given strategy. The result offers statistics to gauge the effectiveness of the strategy. \n",
    "\n",
    "\n",
    "##add more about backtesting\n",
    "\n",
    "##add more about GIC codes\n",
    "\n",
    "In this project, our team proposes a somewhat novel way to define a backtesting strategy, where we make use of Bayesian Modeling to predict quarterly returns and building our strategy based on them. As an extension to basic predictive modeling, we propose a probabilistic extension to the concept of GICS codes.\n",
    "\n",
    "\n",
    "Global Industry Classification Standard (GICS) is a framework which dilineates companies into 11 following sectors:\n",
    "\n",
    "1. Communication services\n",
    "2. Consumer discretionary\n",
    "3. Consumer staples\n",
    "4. Energy\n",
    "5. Financials\n",
    "6. Health care\n",
    "7. Industrials\n",
    "8. Information technology\n",
    "9. Materials\n",
    "10. Real estate\n",
    "11. Utilities\n",
    "    \n",
    "(The framework further classifies companies into 24 industry groups, 68 industries, and 157 subindustries, but we limit our focus to the sector level classification)\n",
    "\n",
    "Two things stand out for this classification:\n",
    "- This classfication of companies is based not on any financial factors, but on the product or service they provide\n",
    "- This is a hard classification i.e. at a certain time, companies usually have a single GICS code associated with them\n",
    "\n",
    "In this work, we try to come up with a soft classification of companies into sectors using their values of their financial fundamental indicators using a Bayesian Gaussian Mixture Model where each component of the mixture would.\n",
    "\n",
    "Using the posterior associations of each component for each data point, we supplant the indicator GICS in our two predictive models: Bayesian Linear Regression and Bayesian Neural Network and do a comparative analysis of our backtest for both types of models - the predictive models having GIC indicators with the predictive models having soft classifications"
   ]
  },
  {
   "cell_type": "markdown",
   "metadata": {},
   "source": [
    " "
   ]
  },
  {
   "cell_type": "markdown",
   "metadata": {},
   "source": [
    "### Data"
   ]
  },
  {
   "cell_type": "markdown",
   "metadata": {},
   "source": [
    "We use the company fundamentals data for x companies over y years at a z frequency along with the close price (which is eventually used by converting them to return values). This data was downloaded from [SimFin](https://simfin.com/), which makes fundamental financial data available for free.\n",
    "\n",
    "Our final list of fundamentals, which will eventually serve as predictors of the return, are:\n",
    "\n"
   ]
  },
  {
   "cell_type": "code",
   "execution_count": null,
   "metadata": {},
   "outputs": [],
   "source": []
  }
 ],
 "metadata": {
  "kernelspec": {
   "display_name": "Python 3",
   "language": "python",
   "name": "python3"
  },
  "language_info": {
   "codemirror_mode": {
    "name": "ipython",
    "version": 3
   },
   "file_extension": ".py",
   "mimetype": "text/x-python",
   "name": "python",
   "nbconvert_exporter": "python",
   "pygments_lexer": "ipython3",
   "version": "3.6.8"
  }
 },
 "nbformat": 4,
 "nbformat_minor": 2
}

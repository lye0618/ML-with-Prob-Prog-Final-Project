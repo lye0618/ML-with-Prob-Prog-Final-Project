{
 "cells": [
  {
   "cell_type": "markdown",
   "metadata": {},
   "source": [
    "# Imports"
   ]
  },
  {
   "cell_type": "code",
   "execution_count": 3,
   "metadata": {},
   "outputs": [],
   "source": [
    "from loader import *\n",
    "import pandas as pd"
   ]
  },
  {
   "cell_type": "code",
   "execution_count": 4,
   "metadata": {},
   "outputs": [
    {
     "name": "stdout",
     "output_type": "stream",
     "text": [
      "Some files already exist in your CACHE_DIR. If you still want to run this function,run with override=True\n"
     ]
    }
   ],
   "source": [
    "# To extract data from zip file:\n",
    "# Create a file called common.py and define variables \n",
    "# DATA_DIR (path of zip file) and CACHE_DIR (path where you want to save message packs)\n",
    "# This function needs to be run only on first ever run\n",
    "# Change override=True\n",
    "read_file(override=False)"
   ]
  },
  {
   "cell_type": "code",
   "execution_count": 5,
   "metadata": {},
   "outputs": [
    {
     "name": "stdout",
     "output_type": "stream",
     "text": [
      "file path is /mnt/d/mlpp/cache/bitstampUSD_1-min_data_2012-01-01_to_2019-08-12.csv.msgpack\n"
     ]
    },
    {
     "name": "stderr",
     "output_type": "stream",
     "text": [
      "/mnt/c/Users/aksmi/Desktop/Drive/Fall '19/Courses/ML with Probabilistic Programming/course_repo/probprog/lib/python3.6/site-packages/ipykernel_launcher.py:1: FutureWarning: The read_msgpack is deprecated and will be removed in a future version.\n",
      "It is recommended to use pyarrow for on-the-wire transmission of pandas objects.\n",
      "  \"\"\"Entry point for launching an IPython kernel.\n"
     ]
    },
    {
     "name": "stdout",
     "output_type": "stream",
     "text": [
      "file path is /mnt/d/mlpp/cache/coinbaseUSD_1-min_data_2014-12-01_to_2019-01-09.csv.msgpack\n"
     ]
    },
    {
     "name": "stderr",
     "output_type": "stream",
     "text": [
      "/mnt/c/Users/aksmi/Desktop/Drive/Fall '19/Courses/ML with Probabilistic Programming/course_repo/probprog/lib/python3.6/site-packages/ipykernel_launcher.py:2: FutureWarning: The read_msgpack is deprecated and will be removed in a future version.\n",
      "It is recommended to use pyarrow for on-the-wire transmission of pandas objects.\n",
      "  \n"
     ]
    }
   ],
   "source": [
    "bc = read_data('bitstamp', sample=1)\n",
    "cb = read_data('coinbase', sample=1)"
   ]
  },
  {
   "cell_type": "code",
   "execution_count": 6,
   "metadata": {},
   "outputs": [
    {
     "name": "stdout",
     "output_type": "stream",
     "text": [
      "<class 'pandas.core.frame.DataFrame'>\n",
      "Int64Index: 3997697 entries, 0 to 3997696\n",
      "Data columns (total 8 columns):\n",
      "Timestamp            datetime64[ns, UTC]\n",
      "Open                 float64\n",
      "High                 float64\n",
      "Low                  float64\n",
      "Close                float64\n",
      "Volume_(BTC)         float64\n",
      "Volume_(Currency)    float64\n",
      "Weighted_Price       float64\n",
      "dtypes: datetime64[ns, UTC](1), float64(7)\n",
      "memory usage: 274.5 MB\n"
     ]
    }
   ],
   "source": [
    "bc.info()"
   ]
  },
  {
   "cell_type": "code",
   "execution_count": 7,
   "metadata": {},
   "outputs": [
    {
     "name": "stdout",
     "output_type": "stream",
     "text": [
      "<class 'pandas.core.frame.DataFrame'>\n",
      "Int64Index: 2099760 entries, 0 to 2099759\n",
      "Data columns (total 8 columns):\n",
      "Timestamp            datetime64[ns, UTC]\n",
      "Open                 float64\n",
      "High                 float64\n",
      "Low                  float64\n",
      "Close                float64\n",
      "Volume_(BTC)         float64\n",
      "Volume_(Currency)    float64\n",
      "Weighted_Price       float64\n",
      "dtypes: datetime64[ns, UTC](1), float64(7)\n",
      "memory usage: 144.2 MB\n"
     ]
    }
   ],
   "source": [
    "cb.info()"
   ]
  },
  {
   "cell_type": "code",
   "execution_count": null,
   "metadata": {},
   "outputs": [],
   "source": []
  }
 ],
 "metadata": {
  "kernelspec": {
   "display_name": "Python 3",
   "language": "python",
   "name": "python3"
  },
  "language_info": {
   "codemirror_mode": {
    "name": "ipython",
    "version": 3
   },
   "file_extension": ".py",
   "mimetype": "text/x-python",
   "name": "python",
   "nbconvert_exporter": "python",
   "pygments_lexer": "ipython3",
   "version": "3.6.8"
  }
 },
 "nbformat": 4,
 "nbformat_minor": 4
}
